{
 "cells": [
  {
   "cell_type": "code",
   "execution_count": 1,
   "id": "cd755fcf",
   "metadata": {},
   "outputs": [],
   "source": [
    "import pandas as pd\n",
    "import numpy as np\n",
    "from statsmodels.stats.weightstats import ttest_ind,ztest"
   ]
  },
  {
   "cell_type": "code",
   "execution_count": 2,
   "id": "ee1d4d2c",
   "metadata": {},
   "outputs": [
    {
     "data": {
      "text/html": [
       "<div>\n",
       "<style scoped>\n",
       "    .dataframe tbody tr th:only-of-type {\n",
       "        vertical-align: middle;\n",
       "    }\n",
       "\n",
       "    .dataframe tbody tr th {\n",
       "        vertical-align: top;\n",
       "    }\n",
       "\n",
       "    .dataframe thead th {\n",
       "        text-align: right;\n",
       "    }\n",
       "</style>\n",
       "<table border=\"1\" class=\"dataframe\">\n",
       "  <thead>\n",
       "    <tr style=\"text-align: right;\">\n",
       "      <th></th>\n",
       "      <th>timestamp</th>\n",
       "      <th>id</th>\n",
       "      <th>group</th>\n",
       "      <th>total_days</th>\n",
       "      <th>completed</th>\n",
       "    </tr>\n",
       "  </thead>\n",
       "  <tbody>\n",
       "    <tr>\n",
       "      <th>0</th>\n",
       "      <td>2015-08-10 17:06:01.032740</td>\n",
       "      <td>610019</td>\n",
       "      <td>experiment</td>\n",
       "      <td>97</td>\n",
       "      <td>True</td>\n",
       "    </tr>\n",
       "    <tr>\n",
       "      <th>1</th>\n",
       "      <td>2015-08-10 17:15:28.950975</td>\n",
       "      <td>690224</td>\n",
       "      <td>control</td>\n",
       "      <td>75</td>\n",
       "      <td>False</td>\n",
       "    </tr>\n",
       "    <tr>\n",
       "      <th>2</th>\n",
       "      <td>2015-08-10 17:34:40.920384</td>\n",
       "      <td>564994</td>\n",
       "      <td>experiment</td>\n",
       "      <td>128</td>\n",
       "      <td>True</td>\n",
       "    </tr>\n",
       "    <tr>\n",
       "      <th>3</th>\n",
       "      <td>2015-08-10 17:50:39.847374</td>\n",
       "      <td>849588</td>\n",
       "      <td>experiment</td>\n",
       "      <td>66</td>\n",
       "      <td>False</td>\n",
       "    </tr>\n",
       "    <tr>\n",
       "      <th>4</th>\n",
       "      <td>2015-08-10 19:10:40.650599</td>\n",
       "      <td>849826</td>\n",
       "      <td>experiment</td>\n",
       "      <td>34</td>\n",
       "      <td>False</td>\n",
       "    </tr>\n",
       "    <tr>\n",
       "      <th>...</th>\n",
       "      <td>...</td>\n",
       "      <td>...</td>\n",
       "      <td>...</td>\n",
       "      <td>...</td>\n",
       "      <td>...</td>\n",
       "    </tr>\n",
       "    <tr>\n",
       "      <th>3824</th>\n",
       "      <td>2016-01-19 09:26:08.197754</td>\n",
       "      <td>364453</td>\n",
       "      <td>experiment</td>\n",
       "      <td>63</td>\n",
       "      <td>False</td>\n",
       "    </tr>\n",
       "    <tr>\n",
       "      <th>3825</th>\n",
       "      <td>2016-01-19 13:03:23.000822</td>\n",
       "      <td>519239</td>\n",
       "      <td>control</td>\n",
       "      <td>87</td>\n",
       "      <td>True</td>\n",
       "    </tr>\n",
       "    <tr>\n",
       "      <th>3826</th>\n",
       "      <td>2016-01-19 13:57:27.787897</td>\n",
       "      <td>508316</td>\n",
       "      <td>experiment</td>\n",
       "      <td>103</td>\n",
       "      <td>True</td>\n",
       "    </tr>\n",
       "    <tr>\n",
       "      <th>3827</th>\n",
       "      <td>2016-01-19 14:54:40.124679</td>\n",
       "      <td>244124</td>\n",
       "      <td>control</td>\n",
       "      <td>73</td>\n",
       "      <td>False</td>\n",
       "    </tr>\n",
       "    <tr>\n",
       "      <th>3828</th>\n",
       "      <td>2016-01-19 15:21:31.634379</td>\n",
       "      <td>511677</td>\n",
       "      <td>experiment</td>\n",
       "      <td>86</td>\n",
       "      <td>True</td>\n",
       "    </tr>\n",
       "  </tbody>\n",
       "</table>\n",
       "<p>3829 rows × 5 columns</p>\n",
       "</div>"
      ],
      "text/plain": [
       "                       timestamp      id       group  total_days  completed\n",
       "0     2015-08-10 17:06:01.032740  610019  experiment          97       True\n",
       "1     2015-08-10 17:15:28.950975  690224     control          75      False\n",
       "2     2015-08-10 17:34:40.920384  564994  experiment         128       True\n",
       "3     2015-08-10 17:50:39.847374  849588  experiment          66      False\n",
       "4     2015-08-10 19:10:40.650599  849826  experiment          34      False\n",
       "...                          ...     ...         ...         ...        ...\n",
       "3824  2016-01-19 09:26:08.197754  364453  experiment          63      False\n",
       "3825  2016-01-19 13:03:23.000822  519239     control          87       True\n",
       "3826  2016-01-19 13:57:27.787897  508316  experiment         103       True\n",
       "3827  2016-01-19 14:54:40.124679  244124     control          73      False\n",
       "3828  2016-01-19 15:21:31.634379  511677  experiment          86       True\n",
       "\n",
       "[3829 rows x 5 columns]"
      ]
     },
     "execution_count": 2,
     "metadata": {},
     "output_type": "execute_result"
    }
   ],
   "source": [
    "df=pd.read_csv(r'D:\\COURSES\\AI\\Epsilon Ai\\Session 20\\AB_Datasets\\classroom_actions.csv')\n",
    "df"
   ]
  },
  {
   "cell_type": "code",
   "execution_count": 3,
   "id": "b5f61d7b",
   "metadata": {},
   "outputs": [
    {
     "data": {
      "text/html": [
       "<div>\n",
       "<style scoped>\n",
       "    .dataframe tbody tr th:only-of-type {\n",
       "        vertical-align: middle;\n",
       "    }\n",
       "\n",
       "    .dataframe tbody tr th {\n",
       "        vertical-align: top;\n",
       "    }\n",
       "\n",
       "    .dataframe thead th {\n",
       "        text-align: right;\n",
       "    }\n",
       "</style>\n",
       "<table border=\"1\" class=\"dataframe\">\n",
       "  <thead>\n",
       "    <tr style=\"text-align: right;\">\n",
       "      <th></th>\n",
       "      <th>timestamp</th>\n",
       "      <th>id</th>\n",
       "      <th>group</th>\n",
       "      <th>total_days</th>\n",
       "      <th>completed</th>\n",
       "    </tr>\n",
       "  </thead>\n",
       "  <tbody>\n",
       "    <tr>\n",
       "      <th>0</th>\n",
       "      <td>2015-08-10 17:06:01.032740</td>\n",
       "      <td>610019</td>\n",
       "      <td>experiment</td>\n",
       "      <td>97</td>\n",
       "      <td>True</td>\n",
       "    </tr>\n",
       "    <tr>\n",
       "      <th>2</th>\n",
       "      <td>2015-08-10 17:34:40.920384</td>\n",
       "      <td>564994</td>\n",
       "      <td>experiment</td>\n",
       "      <td>128</td>\n",
       "      <td>True</td>\n",
       "    </tr>\n",
       "    <tr>\n",
       "      <th>3</th>\n",
       "      <td>2015-08-10 17:50:39.847374</td>\n",
       "      <td>849588</td>\n",
       "      <td>experiment</td>\n",
       "      <td>66</td>\n",
       "      <td>False</td>\n",
       "    </tr>\n",
       "    <tr>\n",
       "      <th>4</th>\n",
       "      <td>2015-08-10 19:10:40.650599</td>\n",
       "      <td>849826</td>\n",
       "      <td>experiment</td>\n",
       "      <td>34</td>\n",
       "      <td>False</td>\n",
       "    </tr>\n",
       "    <tr>\n",
       "      <th>8</th>\n",
       "      <td>2015-08-10 21:03:33.719529</td>\n",
       "      <td>929620</td>\n",
       "      <td>experiment</td>\n",
       "      <td>90</td>\n",
       "      <td>False</td>\n",
       "    </tr>\n",
       "    <tr>\n",
       "      <th>...</th>\n",
       "      <td>...</td>\n",
       "      <td>...</td>\n",
       "      <td>...</td>\n",
       "      <td>...</td>\n",
       "      <td>...</td>\n",
       "    </tr>\n",
       "    <tr>\n",
       "      <th>3818</th>\n",
       "      <td>2016-01-19 01:13:40.858762</td>\n",
       "      <td>522568</td>\n",
       "      <td>experiment</td>\n",
       "      <td>102</td>\n",
       "      <td>True</td>\n",
       "    </tr>\n",
       "    <tr>\n",
       "      <th>3820</th>\n",
       "      <td>2016-01-19 03:38:20.977586</td>\n",
       "      <td>819668</td>\n",
       "      <td>experiment</td>\n",
       "      <td>78</td>\n",
       "      <td>True</td>\n",
       "    </tr>\n",
       "    <tr>\n",
       "      <th>3824</th>\n",
       "      <td>2016-01-19 09:26:08.197754</td>\n",
       "      <td>364453</td>\n",
       "      <td>experiment</td>\n",
       "      <td>63</td>\n",
       "      <td>False</td>\n",
       "    </tr>\n",
       "    <tr>\n",
       "      <th>3826</th>\n",
       "      <td>2016-01-19 13:57:27.787897</td>\n",
       "      <td>508316</td>\n",
       "      <td>experiment</td>\n",
       "      <td>103</td>\n",
       "      <td>True</td>\n",
       "    </tr>\n",
       "    <tr>\n",
       "      <th>3828</th>\n",
       "      <td>2016-01-19 15:21:31.634379</td>\n",
       "      <td>511677</td>\n",
       "      <td>experiment</td>\n",
       "      <td>86</td>\n",
       "      <td>True</td>\n",
       "    </tr>\n",
       "  </tbody>\n",
       "</table>\n",
       "<p>2165 rows × 5 columns</p>\n",
       "</div>"
      ],
      "text/plain": [
       "                       timestamp      id       group  total_days  completed\n",
       "0     2015-08-10 17:06:01.032740  610019  experiment          97       True\n",
       "2     2015-08-10 17:34:40.920384  564994  experiment         128       True\n",
       "3     2015-08-10 17:50:39.847374  849588  experiment          66      False\n",
       "4     2015-08-10 19:10:40.650599  849826  experiment          34      False\n",
       "8     2015-08-10 21:03:33.719529  929620  experiment          90      False\n",
       "...                          ...     ...         ...         ...        ...\n",
       "3818  2016-01-19 01:13:40.858762  522568  experiment         102       True\n",
       "3820  2016-01-19 03:38:20.977586  819668  experiment          78       True\n",
       "3824  2016-01-19 09:26:08.197754  364453  experiment          63      False\n",
       "3826  2016-01-19 13:57:27.787897  508316  experiment         103       True\n",
       "3828  2016-01-19 15:21:31.634379  511677  experiment          86       True\n",
       "\n",
       "[2165 rows x 5 columns]"
      ]
     },
     "execution_count": 3,
     "metadata": {},
     "output_type": "execute_result"
    }
   ],
   "source": [
    "df[df['group']=='experiment']"
   ]
  },
  {
   "cell_type": "code",
   "execution_count": 4,
   "id": "b7ae1aec",
   "metadata": {},
   "outputs": [
    {
     "data": {
      "text/plain": [
       "74.1055105771742"
      ]
     },
     "execution_count": 4,
     "metadata": {},
     "output_type": "execute_result"
    }
   ],
   "source": [
    "df['total_days'].mean()"
   ]
  },
  {
   "cell_type": "code",
   "execution_count": 5,
   "id": "ff5feedd",
   "metadata": {},
   "outputs": [
    {
     "data": {
      "text/plain": [
       "74.6715935334873"
      ]
     },
     "execution_count": 5,
     "metadata": {},
     "output_type": "execute_result"
    }
   ],
   "source": [
    "df[df['group']=='experiment']['total_days'].mean()"
   ]
  },
  {
   "cell_type": "code",
   "execution_count": 6,
   "id": "de3da306",
   "metadata": {},
   "outputs": [
    {
     "data": {
      "text/plain": [
       "73.36899038461539"
      ]
     },
     "execution_count": 6,
     "metadata": {},
     "output_type": "execute_result"
    }
   ],
   "source": [
    "df[df['group']=='control'].total_days.mean()"
   ]
  },
  {
   "cell_type": "code",
   "execution_count": 7,
   "id": "6f4527c6",
   "metadata": {},
   "outputs": [],
   "source": [
    "# Ha: Average_experiment>average_control\n",
    "#H1: x\\ >M"
   ]
  },
  {
   "cell_type": "code",
   "execution_count": 8,
   "id": "3b357636",
   "metadata": {},
   "outputs": [
    {
     "data": {
      "text/plain": [
       "(1.784221674871853, 0.037193825815102055)"
      ]
     },
     "execution_count": 8,
     "metadata": {},
     "output_type": "execute_result"
    }
   ],
   "source": [
    "ztest(df[df['group']=='experiment'].total_days,df[df['group']=='control'].total_days,alternative='larger')"
   ]
  },
  {
   "cell_type": "code",
   "execution_count": 9,
   "id": "2830ad50",
   "metadata": {},
   "outputs": [
    {
     "data": {
      "text/plain": [
       "(1.7842216748718527, 0.03723342678032589, 3827.0)"
      ]
     },
     "execution_count": 9,
     "metadata": {},
     "output_type": "execute_result"
    }
   ],
   "source": [
    "ttest_ind(df[df['group']=='experiment'].total_days,df[df['group']=='control'].total_days,alternative='larger')"
   ]
  },
  {
   "cell_type": "markdown",
   "id": "134deb86",
   "metadata": {},
   "source": [
    "## Pandas "
   ]
  },
  {
   "cell_type": "code",
   "execution_count": 10,
   "id": "0ed1d9d1",
   "metadata": {},
   "outputs": [],
   "source": [
    "arr=np.array([1,23,4,6,5,7])\n"
   ]
  },
  {
   "cell_type": "code",
   "execution_count": 11,
   "id": "b0c283f8",
   "metadata": {},
   "outputs": [
    {
     "data": {
      "text/plain": [
       "a     1\n",
       "b    23\n",
       "c     4\n",
       "d     6\n",
       "e     5\n",
       "f     7\n",
       "dtype: int32"
      ]
     },
     "execution_count": 11,
     "metadata": {},
     "output_type": "execute_result"
    }
   ],
   "source": [
    "ser=pd.Series(arr,index=['a','b','c','d','e','f'])\n",
    "ser"
   ]
  },
  {
   "cell_type": "code",
   "execution_count": 12,
   "id": "d90977c1",
   "metadata": {},
   "outputs": [
    {
     "data": {
      "text/plain": [
       "23"
      ]
     },
     "execution_count": 12,
     "metadata": {},
     "output_type": "execute_result"
    }
   ],
   "source": [
    "ser['b']"
   ]
  },
  {
   "cell_type": "code",
   "execution_count": 13,
   "id": "7dd489fa",
   "metadata": {},
   "outputs": [
    {
     "data": {
      "text/plain": [
       "7.666666666666667"
      ]
     },
     "execution_count": 13,
     "metadata": {},
     "output_type": "execute_result"
    }
   ],
   "source": [
    "ser.mean()"
   ]
  },
  {
   "cell_type": "code",
   "execution_count": 14,
   "id": "e9d505d4",
   "metadata": {},
   "outputs": [
    {
     "data": {
      "text/plain": [
       "5.5"
      ]
     },
     "execution_count": 14,
     "metadata": {},
     "output_type": "execute_result"
    }
   ],
   "source": [
    "ser.median()"
   ]
  },
  {
   "cell_type": "code",
   "execution_count": 15,
   "id": "0e35a5f9",
   "metadata": {},
   "outputs": [],
   "source": [
    "data=np.random.randn(5,4)"
   ]
  },
  {
   "cell_type": "code",
   "execution_count": 16,
   "id": "84fe1a64",
   "metadata": {},
   "outputs": [
    {
     "data": {
      "text/plain": [
       "array([[-0.80405658, -1.07195406,  0.43095523, -0.39764106],\n",
       "       [ 0.27961175,  0.44550109,  0.42519955, -0.80284653],\n",
       "       [-0.64817049,  0.65355883,  0.68251565,  1.45770022],\n",
       "       [-1.76976826, -1.10804029, -0.75559075, -0.28205601],\n",
       "       [ 0.82982861, -0.48325001, -0.23061728, -0.74778205]])"
      ]
     },
     "execution_count": 16,
     "metadata": {},
     "output_type": "execute_result"
    }
   ],
   "source": [
    "data"
   ]
  },
  {
   "cell_type": "code",
   "execution_count": 17,
   "id": "579b3e27",
   "metadata": {},
   "outputs": [
    {
     "data": {
      "text/html": [
       "<div>\n",
       "<style scoped>\n",
       "    .dataframe tbody tr th:only-of-type {\n",
       "        vertical-align: middle;\n",
       "    }\n",
       "\n",
       "    .dataframe tbody tr th {\n",
       "        vertical-align: top;\n",
       "    }\n",
       "\n",
       "    .dataframe thead th {\n",
       "        text-align: right;\n",
       "    }\n",
       "</style>\n",
       "<table border=\"1\" class=\"dataframe\">\n",
       "  <thead>\n",
       "    <tr style=\"text-align: right;\">\n",
       "      <th></th>\n",
       "      <th>col1</th>\n",
       "      <th>col2</th>\n",
       "      <th>col3</th>\n",
       "      <th>col4</th>\n",
       "    </tr>\n",
       "  </thead>\n",
       "  <tbody>\n",
       "    <tr>\n",
       "      <th>a</th>\n",
       "      <td>-0.804057</td>\n",
       "      <td>-1.071954</td>\n",
       "      <td>0.430955</td>\n",
       "      <td>-0.397641</td>\n",
       "    </tr>\n",
       "    <tr>\n",
       "      <th>b</th>\n",
       "      <td>0.279612</td>\n",
       "      <td>0.445501</td>\n",
       "      <td>0.425200</td>\n",
       "      <td>-0.802847</td>\n",
       "    </tr>\n",
       "    <tr>\n",
       "      <th>c</th>\n",
       "      <td>-0.648170</td>\n",
       "      <td>0.653559</td>\n",
       "      <td>0.682516</td>\n",
       "      <td>1.457700</td>\n",
       "    </tr>\n",
       "    <tr>\n",
       "      <th>d</th>\n",
       "      <td>-1.769768</td>\n",
       "      <td>-1.108040</td>\n",
       "      <td>-0.755591</td>\n",
       "      <td>-0.282056</td>\n",
       "    </tr>\n",
       "    <tr>\n",
       "      <th>e</th>\n",
       "      <td>0.829829</td>\n",
       "      <td>-0.483250</td>\n",
       "      <td>-0.230617</td>\n",
       "      <td>-0.747782</td>\n",
       "    </tr>\n",
       "  </tbody>\n",
       "</table>\n",
       "</div>"
      ],
      "text/plain": [
       "       col1      col2      col3      col4\n",
       "a -0.804057 -1.071954  0.430955 -0.397641\n",
       "b  0.279612  0.445501  0.425200 -0.802847\n",
       "c -0.648170  0.653559  0.682516  1.457700\n",
       "d -1.769768 -1.108040 -0.755591 -0.282056\n",
       "e  0.829829 -0.483250 -0.230617 -0.747782"
      ]
     },
     "execution_count": 17,
     "metadata": {},
     "output_type": "execute_result"
    }
   ],
   "source": [
    "df=pd.DataFrame(data,index=['a','b','c','d','e'],columns=['col1','col2','col3','col4'])\n",
    "df"
   ]
  },
  {
   "cell_type": "code",
   "execution_count": 18,
   "id": "1617c52e",
   "metadata": {},
   "outputs": [
    {
     "data": {
      "text/plain": [
       "a   -0.804057\n",
       "b    0.279612\n",
       "c   -0.648170\n",
       "d   -1.769768\n",
       "e    0.829829\n",
       "Name: col1, dtype: float64"
      ]
     },
     "execution_count": 18,
     "metadata": {},
     "output_type": "execute_result"
    }
   ],
   "source": [
    "df['col1']"
   ]
  },
  {
   "cell_type": "code",
   "execution_count": 19,
   "id": "5bedeb55",
   "metadata": {},
   "outputs": [
    {
     "data": {
      "text/html": [
       "<div>\n",
       "<style scoped>\n",
       "    .dataframe tbody tr th:only-of-type {\n",
       "        vertical-align: middle;\n",
       "    }\n",
       "\n",
       "    .dataframe tbody tr th {\n",
       "        vertical-align: top;\n",
       "    }\n",
       "\n",
       "    .dataframe thead th {\n",
       "        text-align: right;\n",
       "    }\n",
       "</style>\n",
       "<table border=\"1\" class=\"dataframe\">\n",
       "  <thead>\n",
       "    <tr style=\"text-align: right;\">\n",
       "      <th></th>\n",
       "      <th>col1</th>\n",
       "      <th>col2</th>\n",
       "    </tr>\n",
       "  </thead>\n",
       "  <tbody>\n",
       "    <tr>\n",
       "      <th>a</th>\n",
       "      <td>-0.804057</td>\n",
       "      <td>-1.071954</td>\n",
       "    </tr>\n",
       "    <tr>\n",
       "      <th>b</th>\n",
       "      <td>0.279612</td>\n",
       "      <td>0.445501</td>\n",
       "    </tr>\n",
       "    <tr>\n",
       "      <th>c</th>\n",
       "      <td>-0.648170</td>\n",
       "      <td>0.653559</td>\n",
       "    </tr>\n",
       "    <tr>\n",
       "      <th>d</th>\n",
       "      <td>-1.769768</td>\n",
       "      <td>-1.108040</td>\n",
       "    </tr>\n",
       "    <tr>\n",
       "      <th>e</th>\n",
       "      <td>0.829829</td>\n",
       "      <td>-0.483250</td>\n",
       "    </tr>\n",
       "  </tbody>\n",
       "</table>\n",
       "</div>"
      ],
      "text/plain": [
       "       col1      col2\n",
       "a -0.804057 -1.071954\n",
       "b  0.279612  0.445501\n",
       "c -0.648170  0.653559\n",
       "d -1.769768 -1.108040\n",
       "e  0.829829 -0.483250"
      ]
     },
     "execution_count": 19,
     "metadata": {},
     "output_type": "execute_result"
    }
   ],
   "source": [
    "df[['col1','col2']]"
   ]
  },
  {
   "cell_type": "code",
   "execution_count": 20,
   "id": "f98c2f7b",
   "metadata": {},
   "outputs": [],
   "source": [
    "df['col5']=[3,6,1,7,3]"
   ]
  },
  {
   "cell_type": "code",
   "execution_count": 21,
   "id": "68e02d8c",
   "metadata": {},
   "outputs": [
    {
     "data": {
      "text/html": [
       "<div>\n",
       "<style scoped>\n",
       "    .dataframe tbody tr th:only-of-type {\n",
       "        vertical-align: middle;\n",
       "    }\n",
       "\n",
       "    .dataframe tbody tr th {\n",
       "        vertical-align: top;\n",
       "    }\n",
       "\n",
       "    .dataframe thead th {\n",
       "        text-align: right;\n",
       "    }\n",
       "</style>\n",
       "<table border=\"1\" class=\"dataframe\">\n",
       "  <thead>\n",
       "    <tr style=\"text-align: right;\">\n",
       "      <th></th>\n",
       "      <th>col1</th>\n",
       "      <th>col2</th>\n",
       "      <th>col3</th>\n",
       "      <th>col4</th>\n",
       "      <th>col5</th>\n",
       "    </tr>\n",
       "  </thead>\n",
       "  <tbody>\n",
       "    <tr>\n",
       "      <th>a</th>\n",
       "      <td>-0.804057</td>\n",
       "      <td>-1.071954</td>\n",
       "      <td>0.430955</td>\n",
       "      <td>-0.397641</td>\n",
       "      <td>3</td>\n",
       "    </tr>\n",
       "    <tr>\n",
       "      <th>b</th>\n",
       "      <td>0.279612</td>\n",
       "      <td>0.445501</td>\n",
       "      <td>0.425200</td>\n",
       "      <td>-0.802847</td>\n",
       "      <td>6</td>\n",
       "    </tr>\n",
       "    <tr>\n",
       "      <th>c</th>\n",
       "      <td>-0.648170</td>\n",
       "      <td>0.653559</td>\n",
       "      <td>0.682516</td>\n",
       "      <td>1.457700</td>\n",
       "      <td>1</td>\n",
       "    </tr>\n",
       "    <tr>\n",
       "      <th>d</th>\n",
       "      <td>-1.769768</td>\n",
       "      <td>-1.108040</td>\n",
       "      <td>-0.755591</td>\n",
       "      <td>-0.282056</td>\n",
       "      <td>7</td>\n",
       "    </tr>\n",
       "    <tr>\n",
       "      <th>e</th>\n",
       "      <td>0.829829</td>\n",
       "      <td>-0.483250</td>\n",
       "      <td>-0.230617</td>\n",
       "      <td>-0.747782</td>\n",
       "      <td>3</td>\n",
       "    </tr>\n",
       "  </tbody>\n",
       "</table>\n",
       "</div>"
      ],
      "text/plain": [
       "       col1      col2      col3      col4  col5\n",
       "a -0.804057 -1.071954  0.430955 -0.397641     3\n",
       "b  0.279612  0.445501  0.425200 -0.802847     6\n",
       "c -0.648170  0.653559  0.682516  1.457700     1\n",
       "d -1.769768 -1.108040 -0.755591 -0.282056     7\n",
       "e  0.829829 -0.483250 -0.230617 -0.747782     3"
      ]
     },
     "execution_count": 21,
     "metadata": {},
     "output_type": "execute_result"
    }
   ],
   "source": [
    "df"
   ]
  },
  {
   "cell_type": "code",
   "execution_count": 22,
   "id": "bf93084a",
   "metadata": {},
   "outputs": [
    {
     "data": {
      "text/plain": [
       "a    36\n",
       "b    72\n",
       "c    12\n",
       "d    84\n",
       "e    36\n",
       "Name: col5, dtype: int64"
      ]
     },
     "execution_count": 22,
     "metadata": {},
     "output_type": "execute_result"
    }
   ],
   "source": [
    "df['col5']*12"
   ]
  },
  {
   "cell_type": "code",
   "execution_count": 23,
   "id": "abb3a13e",
   "metadata": {},
   "outputs": [],
   "source": [
    "df['col5']=df['col5']-df['col2']"
   ]
  },
  {
   "cell_type": "code",
   "execution_count": 24,
   "id": "430165be",
   "metadata": {},
   "outputs": [
    {
     "data": {
      "text/html": [
       "<div>\n",
       "<style scoped>\n",
       "    .dataframe tbody tr th:only-of-type {\n",
       "        vertical-align: middle;\n",
       "    }\n",
       "\n",
       "    .dataframe tbody tr th {\n",
       "        vertical-align: top;\n",
       "    }\n",
       "\n",
       "    .dataframe thead th {\n",
       "        text-align: right;\n",
       "    }\n",
       "</style>\n",
       "<table border=\"1\" class=\"dataframe\">\n",
       "  <thead>\n",
       "    <tr style=\"text-align: right;\">\n",
       "      <th></th>\n",
       "      <th>col1</th>\n",
       "      <th>col2</th>\n",
       "      <th>col3</th>\n",
       "      <th>col4</th>\n",
       "      <th>col5</th>\n",
       "    </tr>\n",
       "  </thead>\n",
       "  <tbody>\n",
       "    <tr>\n",
       "      <th>a</th>\n",
       "      <td>-0.804057</td>\n",
       "      <td>-1.071954</td>\n",
       "      <td>0.430955</td>\n",
       "      <td>-0.397641</td>\n",
       "      <td>4.071954</td>\n",
       "    </tr>\n",
       "    <tr>\n",
       "      <th>b</th>\n",
       "      <td>0.279612</td>\n",
       "      <td>0.445501</td>\n",
       "      <td>0.425200</td>\n",
       "      <td>-0.802847</td>\n",
       "      <td>5.554499</td>\n",
       "    </tr>\n",
       "    <tr>\n",
       "      <th>c</th>\n",
       "      <td>-0.648170</td>\n",
       "      <td>0.653559</td>\n",
       "      <td>0.682516</td>\n",
       "      <td>1.457700</td>\n",
       "      <td>0.346441</td>\n",
       "    </tr>\n",
       "    <tr>\n",
       "      <th>d</th>\n",
       "      <td>-1.769768</td>\n",
       "      <td>-1.108040</td>\n",
       "      <td>-0.755591</td>\n",
       "      <td>-0.282056</td>\n",
       "      <td>8.108040</td>\n",
       "    </tr>\n",
       "    <tr>\n",
       "      <th>e</th>\n",
       "      <td>0.829829</td>\n",
       "      <td>-0.483250</td>\n",
       "      <td>-0.230617</td>\n",
       "      <td>-0.747782</td>\n",
       "      <td>3.483250</td>\n",
       "    </tr>\n",
       "  </tbody>\n",
       "</table>\n",
       "</div>"
      ],
      "text/plain": [
       "       col1      col2      col3      col4      col5\n",
       "a -0.804057 -1.071954  0.430955 -0.397641  4.071954\n",
       "b  0.279612  0.445501  0.425200 -0.802847  5.554499\n",
       "c -0.648170  0.653559  0.682516  1.457700  0.346441\n",
       "d -1.769768 -1.108040 -0.755591 -0.282056  8.108040\n",
       "e  0.829829 -0.483250 -0.230617 -0.747782  3.483250"
      ]
     },
     "execution_count": 24,
     "metadata": {},
     "output_type": "execute_result"
    }
   ],
   "source": [
    "df"
   ]
  },
  {
   "cell_type": "code",
   "execution_count": 25,
   "id": "e045fa3d",
   "metadata": {},
   "outputs": [],
   "source": [
    "def f1(x):\n",
    "    return x**2/4\n",
    "df['col5']=df['col5'].apply(f1)"
   ]
  },
  {
   "cell_type": "code",
   "execution_count": 26,
   "id": "11f209e0",
   "metadata": {},
   "outputs": [
    {
     "data": {
      "text/html": [
       "<div>\n",
       "<style scoped>\n",
       "    .dataframe tbody tr th:only-of-type {\n",
       "        vertical-align: middle;\n",
       "    }\n",
       "\n",
       "    .dataframe tbody tr th {\n",
       "        vertical-align: top;\n",
       "    }\n",
       "\n",
       "    .dataframe thead th {\n",
       "        text-align: right;\n",
       "    }\n",
       "</style>\n",
       "<table border=\"1\" class=\"dataframe\">\n",
       "  <thead>\n",
       "    <tr style=\"text-align: right;\">\n",
       "      <th></th>\n",
       "      <th>col1</th>\n",
       "      <th>col2</th>\n",
       "      <th>col3</th>\n",
       "      <th>col4</th>\n",
       "      <th>col5</th>\n",
       "    </tr>\n",
       "  </thead>\n",
       "  <tbody>\n",
       "    <tr>\n",
       "      <th>a</th>\n",
       "      <td>-0.804057</td>\n",
       "      <td>-1.071954</td>\n",
       "      <td>0.430955</td>\n",
       "      <td>-0.397641</td>\n",
       "      <td>4.145202</td>\n",
       "    </tr>\n",
       "    <tr>\n",
       "      <th>b</th>\n",
       "      <td>0.279612</td>\n",
       "      <td>0.445501</td>\n",
       "      <td>0.425200</td>\n",
       "      <td>-0.802847</td>\n",
       "      <td>7.713115</td>\n",
       "    </tr>\n",
       "    <tr>\n",
       "      <th>c</th>\n",
       "      <td>-0.648170</td>\n",
       "      <td>0.653559</td>\n",
       "      <td>0.682516</td>\n",
       "      <td>1.457700</td>\n",
       "      <td>0.030005</td>\n",
       "    </tr>\n",
       "    <tr>\n",
       "      <th>d</th>\n",
       "      <td>-1.769768</td>\n",
       "      <td>-1.108040</td>\n",
       "      <td>-0.755591</td>\n",
       "      <td>-0.282056</td>\n",
       "      <td>16.435079</td>\n",
       "    </tr>\n",
       "    <tr>\n",
       "      <th>e</th>\n",
       "      <td>0.829829</td>\n",
       "      <td>-0.483250</td>\n",
       "      <td>-0.230617</td>\n",
       "      <td>-0.747782</td>\n",
       "      <td>3.033258</td>\n",
       "    </tr>\n",
       "  </tbody>\n",
       "</table>\n",
       "</div>"
      ],
      "text/plain": [
       "       col1      col2      col3      col4       col5\n",
       "a -0.804057 -1.071954  0.430955 -0.397641   4.145202\n",
       "b  0.279612  0.445501  0.425200 -0.802847   7.713115\n",
       "c -0.648170  0.653559  0.682516  1.457700   0.030005\n",
       "d -1.769768 -1.108040 -0.755591 -0.282056  16.435079\n",
       "e  0.829829 -0.483250 -0.230617 -0.747782   3.033258"
      ]
     },
     "execution_count": 26,
     "metadata": {},
     "output_type": "execute_result"
    }
   ],
   "source": [
    "df"
   ]
  },
  {
   "cell_type": "code",
   "execution_count": 27,
   "id": "e0721f9b",
   "metadata": {},
   "outputs": [
    {
     "data": {
      "text/plain": [
       "a   -0.804057\n",
       "b    0.279612\n",
       "c   -0.648170\n",
       "d   -1.769768\n",
       "e    0.829829\n",
       "Name: col1, dtype: float64"
      ]
     },
     "execution_count": 27,
     "metadata": {},
     "output_type": "execute_result"
    }
   ],
   "source": [
    "df[['col1','col4']]['col1']"
   ]
  },
  {
   "cell_type": "code",
   "execution_count": 28,
   "id": "cbc6716d",
   "metadata": {},
   "outputs": [],
   "source": [
    "df['col5']=df['col5'].apply(lambda x:x*3)"
   ]
  },
  {
   "cell_type": "code",
   "execution_count": 29,
   "id": "b8b5a9de",
   "metadata": {},
   "outputs": [
    {
     "data": {
      "text/html": [
       "<div>\n",
       "<style scoped>\n",
       "    .dataframe tbody tr th:only-of-type {\n",
       "        vertical-align: middle;\n",
       "    }\n",
       "\n",
       "    .dataframe tbody tr th {\n",
       "        vertical-align: top;\n",
       "    }\n",
       "\n",
       "    .dataframe thead th {\n",
       "        text-align: right;\n",
       "    }\n",
       "</style>\n",
       "<table border=\"1\" class=\"dataframe\">\n",
       "  <thead>\n",
       "    <tr style=\"text-align: right;\">\n",
       "      <th></th>\n",
       "      <th>col1</th>\n",
       "      <th>col2</th>\n",
       "      <th>col3</th>\n",
       "      <th>col4</th>\n",
       "      <th>col5</th>\n",
       "    </tr>\n",
       "  </thead>\n",
       "  <tbody>\n",
       "    <tr>\n",
       "      <th>a</th>\n",
       "      <td>-0.804057</td>\n",
       "      <td>-1.071954</td>\n",
       "      <td>0.430955</td>\n",
       "      <td>-0.397641</td>\n",
       "      <td>12.435607</td>\n",
       "    </tr>\n",
       "    <tr>\n",
       "      <th>b</th>\n",
       "      <td>0.279612</td>\n",
       "      <td>0.445501</td>\n",
       "      <td>0.425200</td>\n",
       "      <td>-0.802847</td>\n",
       "      <td>23.139344</td>\n",
       "    </tr>\n",
       "    <tr>\n",
       "      <th>c</th>\n",
       "      <td>-0.648170</td>\n",
       "      <td>0.653559</td>\n",
       "      <td>0.682516</td>\n",
       "      <td>1.457700</td>\n",
       "      <td>0.090016</td>\n",
       "    </tr>\n",
       "    <tr>\n",
       "      <th>d</th>\n",
       "      <td>-1.769768</td>\n",
       "      <td>-1.108040</td>\n",
       "      <td>-0.755591</td>\n",
       "      <td>-0.282056</td>\n",
       "      <td>49.305238</td>\n",
       "    </tr>\n",
       "    <tr>\n",
       "      <th>e</th>\n",
       "      <td>0.829829</td>\n",
       "      <td>-0.483250</td>\n",
       "      <td>-0.230617</td>\n",
       "      <td>-0.747782</td>\n",
       "      <td>9.099773</td>\n",
       "    </tr>\n",
       "  </tbody>\n",
       "</table>\n",
       "</div>"
      ],
      "text/plain": [
       "       col1      col2      col3      col4       col5\n",
       "a -0.804057 -1.071954  0.430955 -0.397641  12.435607\n",
       "b  0.279612  0.445501  0.425200 -0.802847  23.139344\n",
       "c -0.648170  0.653559  0.682516  1.457700   0.090016\n",
       "d -1.769768 -1.108040 -0.755591 -0.282056  49.305238\n",
       "e  0.829829 -0.483250 -0.230617 -0.747782   9.099773"
      ]
     },
     "execution_count": 29,
     "metadata": {},
     "output_type": "execute_result"
    }
   ],
   "source": [
    "df"
   ]
  },
  {
   "cell_type": "code",
   "execution_count": 30,
   "id": "2edf479f",
   "metadata": {},
   "outputs": [],
   "source": [
    "df['col6']=['sdfs','sdf','weerwef','wdfcqv','trgc']"
   ]
  },
  {
   "cell_type": "code",
   "execution_count": 31,
   "id": "5215fc1a",
   "metadata": {},
   "outputs": [
    {
     "data": {
      "text/html": [
       "<div>\n",
       "<style scoped>\n",
       "    .dataframe tbody tr th:only-of-type {\n",
       "        vertical-align: middle;\n",
       "    }\n",
       "\n",
       "    .dataframe tbody tr th {\n",
       "        vertical-align: top;\n",
       "    }\n",
       "\n",
       "    .dataframe thead th {\n",
       "        text-align: right;\n",
       "    }\n",
       "</style>\n",
       "<table border=\"1\" class=\"dataframe\">\n",
       "  <thead>\n",
       "    <tr style=\"text-align: right;\">\n",
       "      <th></th>\n",
       "      <th>col1</th>\n",
       "      <th>col2</th>\n",
       "      <th>col3</th>\n",
       "      <th>col4</th>\n",
       "      <th>col5</th>\n",
       "      <th>col6</th>\n",
       "    </tr>\n",
       "  </thead>\n",
       "  <tbody>\n",
       "    <tr>\n",
       "      <th>a</th>\n",
       "      <td>-0.804057</td>\n",
       "      <td>-1.071954</td>\n",
       "      <td>0.430955</td>\n",
       "      <td>-0.397641</td>\n",
       "      <td>12.435607</td>\n",
       "      <td>sdfs</td>\n",
       "    </tr>\n",
       "    <tr>\n",
       "      <th>b</th>\n",
       "      <td>0.279612</td>\n",
       "      <td>0.445501</td>\n",
       "      <td>0.425200</td>\n",
       "      <td>-0.802847</td>\n",
       "      <td>23.139344</td>\n",
       "      <td>sdf</td>\n",
       "    </tr>\n",
       "    <tr>\n",
       "      <th>c</th>\n",
       "      <td>-0.648170</td>\n",
       "      <td>0.653559</td>\n",
       "      <td>0.682516</td>\n",
       "      <td>1.457700</td>\n",
       "      <td>0.090016</td>\n",
       "      <td>weerwef</td>\n",
       "    </tr>\n",
       "    <tr>\n",
       "      <th>d</th>\n",
       "      <td>-1.769768</td>\n",
       "      <td>-1.108040</td>\n",
       "      <td>-0.755591</td>\n",
       "      <td>-0.282056</td>\n",
       "      <td>49.305238</td>\n",
       "      <td>wdfcqv</td>\n",
       "    </tr>\n",
       "    <tr>\n",
       "      <th>e</th>\n",
       "      <td>0.829829</td>\n",
       "      <td>-0.483250</td>\n",
       "      <td>-0.230617</td>\n",
       "      <td>-0.747782</td>\n",
       "      <td>9.099773</td>\n",
       "      <td>trgc</td>\n",
       "    </tr>\n",
       "  </tbody>\n",
       "</table>\n",
       "</div>"
      ],
      "text/plain": [
       "       col1      col2      col3      col4       col5     col6\n",
       "a -0.804057 -1.071954  0.430955 -0.397641  12.435607     sdfs\n",
       "b  0.279612  0.445501  0.425200 -0.802847  23.139344      sdf\n",
       "c -0.648170  0.653559  0.682516  1.457700   0.090016  weerwef\n",
       "d -1.769768 -1.108040 -0.755591 -0.282056  49.305238   wdfcqv\n",
       "e  0.829829 -0.483250 -0.230617 -0.747782   9.099773     trgc"
      ]
     },
     "execution_count": 31,
     "metadata": {},
     "output_type": "execute_result"
    }
   ],
   "source": [
    "df"
   ]
  },
  {
   "cell_type": "code",
   "execution_count": 32,
   "id": "ee1706a5",
   "metadata": {},
   "outputs": [
    {
     "data": {
      "text/html": [
       "<div>\n",
       "<style scoped>\n",
       "    .dataframe tbody tr th:only-of-type {\n",
       "        vertical-align: middle;\n",
       "    }\n",
       "\n",
       "    .dataframe tbody tr th {\n",
       "        vertical-align: top;\n",
       "    }\n",
       "\n",
       "    .dataframe thead th {\n",
       "        text-align: right;\n",
       "    }\n",
       "</style>\n",
       "<table border=\"1\" class=\"dataframe\">\n",
       "  <thead>\n",
       "    <tr style=\"text-align: right;\">\n",
       "      <th></th>\n",
       "      <th>col1</th>\n",
       "      <th>col2</th>\n",
       "      <th>col3</th>\n",
       "      <th>col4</th>\n",
       "      <th>col5</th>\n",
       "      <th>col6</th>\n",
       "      <th>col7</th>\n",
       "    </tr>\n",
       "  </thead>\n",
       "  <tbody>\n",
       "    <tr>\n",
       "      <th>a</th>\n",
       "      <td>-0.804057</td>\n",
       "      <td>-1.071954</td>\n",
       "      <td>0.430955</td>\n",
       "      <td>-0.397641</td>\n",
       "      <td>12.435607</td>\n",
       "      <td>sdfs</td>\n",
       "      <td>4</td>\n",
       "    </tr>\n",
       "    <tr>\n",
       "      <th>b</th>\n",
       "      <td>0.279612</td>\n",
       "      <td>0.445501</td>\n",
       "      <td>0.425200</td>\n",
       "      <td>-0.802847</td>\n",
       "      <td>23.139344</td>\n",
       "      <td>sdf</td>\n",
       "      <td>3</td>\n",
       "    </tr>\n",
       "    <tr>\n",
       "      <th>c</th>\n",
       "      <td>-0.648170</td>\n",
       "      <td>0.653559</td>\n",
       "      <td>0.682516</td>\n",
       "      <td>1.457700</td>\n",
       "      <td>0.090016</td>\n",
       "      <td>weerwef</td>\n",
       "      <td>7</td>\n",
       "    </tr>\n",
       "    <tr>\n",
       "      <th>d</th>\n",
       "      <td>-1.769768</td>\n",
       "      <td>-1.108040</td>\n",
       "      <td>-0.755591</td>\n",
       "      <td>-0.282056</td>\n",
       "      <td>49.305238</td>\n",
       "      <td>wdfcqv</td>\n",
       "      <td>6</td>\n",
       "    </tr>\n",
       "    <tr>\n",
       "      <th>e</th>\n",
       "      <td>0.829829</td>\n",
       "      <td>-0.483250</td>\n",
       "      <td>-0.230617</td>\n",
       "      <td>-0.747782</td>\n",
       "      <td>9.099773</td>\n",
       "      <td>trgc</td>\n",
       "      <td>4</td>\n",
       "    </tr>\n",
       "  </tbody>\n",
       "</table>\n",
       "</div>"
      ],
      "text/plain": [
       "       col1      col2      col3      col4       col5     col6  col7\n",
       "a -0.804057 -1.071954  0.430955 -0.397641  12.435607     sdfs     4\n",
       "b  0.279612  0.445501  0.425200 -0.802847  23.139344      sdf     3\n",
       "c -0.648170  0.653559  0.682516  1.457700   0.090016  weerwef     7\n",
       "d -1.769768 -1.108040 -0.755591 -0.282056  49.305238   wdfcqv     6\n",
       "e  0.829829 -0.483250 -0.230617 -0.747782   9.099773     trgc     4"
      ]
     },
     "execution_count": 32,
     "metadata": {},
     "output_type": "execute_result"
    }
   ],
   "source": [
    "df['col7']=df['col6'].apply(len)\n",
    "df"
   ]
  },
  {
   "cell_type": "code",
   "execution_count": 33,
   "id": "1faf253d",
   "metadata": {},
   "outputs": [
    {
     "data": {
      "text/html": [
       "<div>\n",
       "<style scoped>\n",
       "    .dataframe tbody tr th:only-of-type {\n",
       "        vertical-align: middle;\n",
       "    }\n",
       "\n",
       "    .dataframe tbody tr th {\n",
       "        vertical-align: top;\n",
       "    }\n",
       "\n",
       "    .dataframe thead th {\n",
       "        text-align: right;\n",
       "    }\n",
       "</style>\n",
       "<table border=\"1\" class=\"dataframe\">\n",
       "  <thead>\n",
       "    <tr style=\"text-align: right;\">\n",
       "      <th></th>\n",
       "      <th>col1</th>\n",
       "      <th>col2</th>\n",
       "      <th>col3</th>\n",
       "      <th>col5</th>\n",
       "      <th>col6</th>\n",
       "      <th>col7</th>\n",
       "    </tr>\n",
       "  </thead>\n",
       "  <tbody>\n",
       "    <tr>\n",
       "      <th>a</th>\n",
       "      <td>-0.804057</td>\n",
       "      <td>-1.071954</td>\n",
       "      <td>0.430955</td>\n",
       "      <td>12.435607</td>\n",
       "      <td>sdfs</td>\n",
       "      <td>4</td>\n",
       "    </tr>\n",
       "    <tr>\n",
       "      <th>b</th>\n",
       "      <td>0.279612</td>\n",
       "      <td>0.445501</td>\n",
       "      <td>0.425200</td>\n",
       "      <td>23.139344</td>\n",
       "      <td>sdf</td>\n",
       "      <td>3</td>\n",
       "    </tr>\n",
       "    <tr>\n",
       "      <th>c</th>\n",
       "      <td>-0.648170</td>\n",
       "      <td>0.653559</td>\n",
       "      <td>0.682516</td>\n",
       "      <td>0.090016</td>\n",
       "      <td>weerwef</td>\n",
       "      <td>7</td>\n",
       "    </tr>\n",
       "    <tr>\n",
       "      <th>d</th>\n",
       "      <td>-1.769768</td>\n",
       "      <td>-1.108040</td>\n",
       "      <td>-0.755591</td>\n",
       "      <td>49.305238</td>\n",
       "      <td>wdfcqv</td>\n",
       "      <td>6</td>\n",
       "    </tr>\n",
       "    <tr>\n",
       "      <th>e</th>\n",
       "      <td>0.829829</td>\n",
       "      <td>-0.483250</td>\n",
       "      <td>-0.230617</td>\n",
       "      <td>9.099773</td>\n",
       "      <td>trgc</td>\n",
       "      <td>4</td>\n",
       "    </tr>\n",
       "  </tbody>\n",
       "</table>\n",
       "</div>"
      ],
      "text/plain": [
       "       col1      col2      col3       col5     col6  col7\n",
       "a -0.804057 -1.071954  0.430955  12.435607     sdfs     4\n",
       "b  0.279612  0.445501  0.425200  23.139344      sdf     3\n",
       "c -0.648170  0.653559  0.682516   0.090016  weerwef     7\n",
       "d -1.769768 -1.108040 -0.755591  49.305238   wdfcqv     6\n",
       "e  0.829829 -0.483250 -0.230617   9.099773     trgc     4"
      ]
     },
     "execution_count": 33,
     "metadata": {},
     "output_type": "execute_result"
    }
   ],
   "source": [
    "df.drop('col4',axis=1)"
   ]
  },
  {
   "cell_type": "code",
   "execution_count": 34,
   "id": "85d625d9",
   "metadata": {},
   "outputs": [
    {
     "data": {
      "text/html": [
       "<div>\n",
       "<style scoped>\n",
       "    .dataframe tbody tr th:only-of-type {\n",
       "        vertical-align: middle;\n",
       "    }\n",
       "\n",
       "    .dataframe tbody tr th {\n",
       "        vertical-align: top;\n",
       "    }\n",
       "\n",
       "    .dataframe thead th {\n",
       "        text-align: right;\n",
       "    }\n",
       "</style>\n",
       "<table border=\"1\" class=\"dataframe\">\n",
       "  <thead>\n",
       "    <tr style=\"text-align: right;\">\n",
       "      <th></th>\n",
       "      <th>col1</th>\n",
       "      <th>col2</th>\n",
       "      <th>col5</th>\n",
       "      <th>col6</th>\n",
       "      <th>col7</th>\n",
       "    </tr>\n",
       "  </thead>\n",
       "  <tbody>\n",
       "    <tr>\n",
       "      <th>a</th>\n",
       "      <td>-0.804057</td>\n",
       "      <td>-1.071954</td>\n",
       "      <td>12.435607</td>\n",
       "      <td>sdfs</td>\n",
       "      <td>4</td>\n",
       "    </tr>\n",
       "    <tr>\n",
       "      <th>b</th>\n",
       "      <td>0.279612</td>\n",
       "      <td>0.445501</td>\n",
       "      <td>23.139344</td>\n",
       "      <td>sdf</td>\n",
       "      <td>3</td>\n",
       "    </tr>\n",
       "    <tr>\n",
       "      <th>c</th>\n",
       "      <td>-0.648170</td>\n",
       "      <td>0.653559</td>\n",
       "      <td>0.090016</td>\n",
       "      <td>weerwef</td>\n",
       "      <td>7</td>\n",
       "    </tr>\n",
       "    <tr>\n",
       "      <th>d</th>\n",
       "      <td>-1.769768</td>\n",
       "      <td>-1.108040</td>\n",
       "      <td>49.305238</td>\n",
       "      <td>wdfcqv</td>\n",
       "      <td>6</td>\n",
       "    </tr>\n",
       "    <tr>\n",
       "      <th>e</th>\n",
       "      <td>0.829829</td>\n",
       "      <td>-0.483250</td>\n",
       "      <td>9.099773</td>\n",
       "      <td>trgc</td>\n",
       "      <td>4</td>\n",
       "    </tr>\n",
       "  </tbody>\n",
       "</table>\n",
       "</div>"
      ],
      "text/plain": [
       "       col1      col2       col5     col6  col7\n",
       "a -0.804057 -1.071954  12.435607     sdfs     4\n",
       "b  0.279612  0.445501  23.139344      sdf     3\n",
       "c -0.648170  0.653559   0.090016  weerwef     7\n",
       "d -1.769768 -1.108040  49.305238   wdfcqv     6\n",
       "e  0.829829 -0.483250   9.099773     trgc     4"
      ]
     },
     "execution_count": 34,
     "metadata": {},
     "output_type": "execute_result"
    }
   ],
   "source": [
    "df.drop(['col3','col4'],axis=1)"
   ]
  },
  {
   "cell_type": "code",
   "execution_count": 35,
   "id": "14611908",
   "metadata": {},
   "outputs": [],
   "source": [
    "df.drop('col4',axis=1,inplace=True)"
   ]
  },
  {
   "cell_type": "code",
   "execution_count": 36,
   "id": "7a2bb73b",
   "metadata": {},
   "outputs": [
    {
     "data": {
      "text/html": [
       "<div>\n",
       "<style scoped>\n",
       "    .dataframe tbody tr th:only-of-type {\n",
       "        vertical-align: middle;\n",
       "    }\n",
       "\n",
       "    .dataframe tbody tr th {\n",
       "        vertical-align: top;\n",
       "    }\n",
       "\n",
       "    .dataframe thead th {\n",
       "        text-align: right;\n",
       "    }\n",
       "</style>\n",
       "<table border=\"1\" class=\"dataframe\">\n",
       "  <thead>\n",
       "    <tr style=\"text-align: right;\">\n",
       "      <th></th>\n",
       "      <th>col1</th>\n",
       "      <th>col2</th>\n",
       "      <th>col3</th>\n",
       "      <th>col5</th>\n",
       "      <th>col6</th>\n",
       "      <th>col7</th>\n",
       "    </tr>\n",
       "  </thead>\n",
       "  <tbody>\n",
       "    <tr>\n",
       "      <th>a</th>\n",
       "      <td>-0.804057</td>\n",
       "      <td>-1.071954</td>\n",
       "      <td>0.430955</td>\n",
       "      <td>12.435607</td>\n",
       "      <td>sdfs</td>\n",
       "      <td>4</td>\n",
       "    </tr>\n",
       "    <tr>\n",
       "      <th>b</th>\n",
       "      <td>0.279612</td>\n",
       "      <td>0.445501</td>\n",
       "      <td>0.425200</td>\n",
       "      <td>23.139344</td>\n",
       "      <td>sdf</td>\n",
       "      <td>3</td>\n",
       "    </tr>\n",
       "    <tr>\n",
       "      <th>c</th>\n",
       "      <td>-0.648170</td>\n",
       "      <td>0.653559</td>\n",
       "      <td>0.682516</td>\n",
       "      <td>0.090016</td>\n",
       "      <td>weerwef</td>\n",
       "      <td>7</td>\n",
       "    </tr>\n",
       "    <tr>\n",
       "      <th>d</th>\n",
       "      <td>-1.769768</td>\n",
       "      <td>-1.108040</td>\n",
       "      <td>-0.755591</td>\n",
       "      <td>49.305238</td>\n",
       "      <td>wdfcqv</td>\n",
       "      <td>6</td>\n",
       "    </tr>\n",
       "    <tr>\n",
       "      <th>e</th>\n",
       "      <td>0.829829</td>\n",
       "      <td>-0.483250</td>\n",
       "      <td>-0.230617</td>\n",
       "      <td>9.099773</td>\n",
       "      <td>trgc</td>\n",
       "      <td>4</td>\n",
       "    </tr>\n",
       "  </tbody>\n",
       "</table>\n",
       "</div>"
      ],
      "text/plain": [
       "       col1      col2      col3       col5     col6  col7\n",
       "a -0.804057 -1.071954  0.430955  12.435607     sdfs     4\n",
       "b  0.279612  0.445501  0.425200  23.139344      sdf     3\n",
       "c -0.648170  0.653559  0.682516   0.090016  weerwef     7\n",
       "d -1.769768 -1.108040 -0.755591  49.305238   wdfcqv     6\n",
       "e  0.829829 -0.483250 -0.230617   9.099773     trgc     4"
      ]
     },
     "execution_count": 36,
     "metadata": {},
     "output_type": "execute_result"
    }
   ],
   "source": [
    "df"
   ]
  },
  {
   "cell_type": "code",
   "execution_count": 37,
   "id": "b4a33495",
   "metadata": {},
   "outputs": [
    {
     "data": {
      "text/html": [
       "<div>\n",
       "<style scoped>\n",
       "    .dataframe tbody tr th:only-of-type {\n",
       "        vertical-align: middle;\n",
       "    }\n",
       "\n",
       "    .dataframe tbody tr th {\n",
       "        vertical-align: top;\n",
       "    }\n",
       "\n",
       "    .dataframe thead th {\n",
       "        text-align: right;\n",
       "    }\n",
       "</style>\n",
       "<table border=\"1\" class=\"dataframe\">\n",
       "  <thead>\n",
       "    <tr style=\"text-align: right;\">\n",
       "      <th></th>\n",
       "      <th>col1</th>\n",
       "      <th>col2</th>\n",
       "      <th>col3</th>\n",
       "      <th>col5</th>\n",
       "      <th>col6</th>\n",
       "      <th>col7</th>\n",
       "    </tr>\n",
       "  </thead>\n",
       "  <tbody>\n",
       "    <tr>\n",
       "      <th>a</th>\n",
       "      <td>-0.804057</td>\n",
       "      <td>-1.071954</td>\n",
       "      <td>0.430955</td>\n",
       "      <td>12.435607</td>\n",
       "      <td>sdfs</td>\n",
       "      <td>4</td>\n",
       "    </tr>\n",
       "    <tr>\n",
       "      <th>b</th>\n",
       "      <td>0.279612</td>\n",
       "      <td>0.445501</td>\n",
       "      <td>0.425200</td>\n",
       "      <td>23.139344</td>\n",
       "      <td>sdf</td>\n",
       "      <td>3</td>\n",
       "    </tr>\n",
       "    <tr>\n",
       "      <th>c</th>\n",
       "      <td>-0.648170</td>\n",
       "      <td>0.653559</td>\n",
       "      <td>0.682516</td>\n",
       "      <td>0.090016</td>\n",
       "      <td>weerwef</td>\n",
       "      <td>7</td>\n",
       "    </tr>\n",
       "    <tr>\n",
       "      <th>d</th>\n",
       "      <td>-1.769768</td>\n",
       "      <td>-1.108040</td>\n",
       "      <td>-0.755591</td>\n",
       "      <td>49.305238</td>\n",
       "      <td>wdfcqv</td>\n",
       "      <td>6</td>\n",
       "    </tr>\n",
       "    <tr>\n",
       "      <th>e</th>\n",
       "      <td>0.829829</td>\n",
       "      <td>-0.483250</td>\n",
       "      <td>-0.230617</td>\n",
       "      <td>9.099773</td>\n",
       "      <td>trgc</td>\n",
       "      <td>4</td>\n",
       "    </tr>\n",
       "  </tbody>\n",
       "</table>\n",
       "</div>"
      ],
      "text/plain": [
       "       col1      col2      col3       col5     col6  col7\n",
       "a -0.804057 -1.071954  0.430955  12.435607     sdfs     4\n",
       "b  0.279612  0.445501  0.425200  23.139344      sdf     3\n",
       "c -0.648170  0.653559  0.682516   0.090016  weerwef     7\n",
       "d -1.769768 -1.108040 -0.755591  49.305238   wdfcqv     6\n",
       "e  0.829829 -0.483250 -0.230617   9.099773     trgc     4"
      ]
     },
     "execution_count": 37,
     "metadata": {},
     "output_type": "execute_result"
    }
   ],
   "source": [
    "df.head()"
   ]
  },
  {
   "cell_type": "code",
   "execution_count": 38,
   "id": "465b2667",
   "metadata": {},
   "outputs": [
    {
     "data": {
      "text/html": [
       "<div>\n",
       "<style scoped>\n",
       "    .dataframe tbody tr th:only-of-type {\n",
       "        vertical-align: middle;\n",
       "    }\n",
       "\n",
       "    .dataframe tbody tr th {\n",
       "        vertical-align: top;\n",
       "    }\n",
       "\n",
       "    .dataframe thead th {\n",
       "        text-align: right;\n",
       "    }\n",
       "</style>\n",
       "<table border=\"1\" class=\"dataframe\">\n",
       "  <thead>\n",
       "    <tr style=\"text-align: right;\">\n",
       "      <th></th>\n",
       "      <th>col1</th>\n",
       "      <th>col2</th>\n",
       "      <th>col3</th>\n",
       "      <th>col5</th>\n",
       "      <th>col6</th>\n",
       "      <th>col7</th>\n",
       "    </tr>\n",
       "  </thead>\n",
       "  <tbody>\n",
       "    <tr>\n",
       "      <th>a</th>\n",
       "      <td>-0.804057</td>\n",
       "      <td>-1.071954</td>\n",
       "      <td>0.430955</td>\n",
       "      <td>12.435607</td>\n",
       "      <td>sdfs</td>\n",
       "      <td>4</td>\n",
       "    </tr>\n",
       "    <tr>\n",
       "      <th>b</th>\n",
       "      <td>0.279612</td>\n",
       "      <td>0.445501</td>\n",
       "      <td>0.425200</td>\n",
       "      <td>23.139344</td>\n",
       "      <td>sdf</td>\n",
       "      <td>3</td>\n",
       "    </tr>\n",
       "    <tr>\n",
       "      <th>c</th>\n",
       "      <td>-0.648170</td>\n",
       "      <td>0.653559</td>\n",
       "      <td>0.682516</td>\n",
       "      <td>0.090016</td>\n",
       "      <td>weerwef</td>\n",
       "      <td>7</td>\n",
       "    </tr>\n",
       "    <tr>\n",
       "      <th>d</th>\n",
       "      <td>-1.769768</td>\n",
       "      <td>-1.108040</td>\n",
       "      <td>-0.755591</td>\n",
       "      <td>49.305238</td>\n",
       "      <td>wdfcqv</td>\n",
       "      <td>6</td>\n",
       "    </tr>\n",
       "    <tr>\n",
       "      <th>e</th>\n",
       "      <td>0.829829</td>\n",
       "      <td>-0.483250</td>\n",
       "      <td>-0.230617</td>\n",
       "      <td>9.099773</td>\n",
       "      <td>trgc</td>\n",
       "      <td>4</td>\n",
       "    </tr>\n",
       "  </tbody>\n",
       "</table>\n",
       "</div>"
      ],
      "text/plain": [
       "       col1      col2      col3       col5     col6  col7\n",
       "a -0.804057 -1.071954  0.430955  12.435607     sdfs     4\n",
       "b  0.279612  0.445501  0.425200  23.139344      sdf     3\n",
       "c -0.648170  0.653559  0.682516   0.090016  weerwef     7\n",
       "d -1.769768 -1.108040 -0.755591  49.305238   wdfcqv     6\n",
       "e  0.829829 -0.483250 -0.230617   9.099773     trgc     4"
      ]
     },
     "execution_count": 38,
     "metadata": {},
     "output_type": "execute_result"
    }
   ],
   "source": [
    "df.tail()"
   ]
  },
  {
   "cell_type": "code",
   "execution_count": 39,
   "id": "343d3f96",
   "metadata": {},
   "outputs": [
    {
     "data": {
      "text/plain": [
       "(5, 6)"
      ]
     },
     "execution_count": 39,
     "metadata": {},
     "output_type": "execute_result"
    }
   ],
   "source": [
    "df.shape"
   ]
  },
  {
   "cell_type": "code",
   "execution_count": 40,
   "id": "cd05b164",
   "metadata": {},
   "outputs": [
    {
     "name": "stdout",
     "output_type": "stream",
     "text": [
      "<class 'pandas.core.frame.DataFrame'>\n",
      "Index: 5 entries, a to e\n",
      "Data columns (total 6 columns):\n",
      " #   Column  Non-Null Count  Dtype  \n",
      "---  ------  --------------  -----  \n",
      " 0   col1    5 non-null      float64\n",
      " 1   col2    5 non-null      float64\n",
      " 2   col3    5 non-null      float64\n",
      " 3   col5    5 non-null      float64\n",
      " 4   col6    5 non-null      object \n",
      " 5   col7    5 non-null      int64  \n",
      "dtypes: float64(4), int64(1), object(1)\n",
      "memory usage: 452.0+ bytes\n"
     ]
    }
   ],
   "source": [
    "df.info()"
   ]
  },
  {
   "cell_type": "code",
   "execution_count": 41,
   "id": "c019dc3d",
   "metadata": {},
   "outputs": [
    {
     "data": {
      "text/html": [
       "<div>\n",
       "<style scoped>\n",
       "    .dataframe tbody tr th:only-of-type {\n",
       "        vertical-align: middle;\n",
       "    }\n",
       "\n",
       "    .dataframe tbody tr th {\n",
       "        vertical-align: top;\n",
       "    }\n",
       "\n",
       "    .dataframe thead th {\n",
       "        text-align: right;\n",
       "    }\n",
       "</style>\n",
       "<table border=\"1\" class=\"dataframe\">\n",
       "  <thead>\n",
       "    <tr style=\"text-align: right;\">\n",
       "      <th></th>\n",
       "      <th>col1</th>\n",
       "      <th>col2</th>\n",
       "      <th>col3</th>\n",
       "      <th>col5</th>\n",
       "      <th>col7</th>\n",
       "    </tr>\n",
       "  </thead>\n",
       "  <tbody>\n",
       "    <tr>\n",
       "      <th>count</th>\n",
       "      <td>5.000000</td>\n",
       "      <td>5.000000</td>\n",
       "      <td>5.000000</td>\n",
       "      <td>5.000000</td>\n",
       "      <td>5.000000</td>\n",
       "    </tr>\n",
       "    <tr>\n",
       "      <th>mean</th>\n",
       "      <td>-0.422511</td>\n",
       "      <td>-0.312837</td>\n",
       "      <td>0.110492</td>\n",
       "      <td>18.813996</td>\n",
       "      <td>4.800000</td>\n",
       "    </tr>\n",
       "    <tr>\n",
       "      <th>std</th>\n",
       "      <td>1.009075</td>\n",
       "      <td>0.828650</td>\n",
       "      <td>0.590636</td>\n",
       "      <td>18.934505</td>\n",
       "      <td>1.643168</td>\n",
       "    </tr>\n",
       "    <tr>\n",
       "      <th>min</th>\n",
       "      <td>-1.769768</td>\n",
       "      <td>-1.108040</td>\n",
       "      <td>-0.755591</td>\n",
       "      <td>0.090016</td>\n",
       "      <td>3.000000</td>\n",
       "    </tr>\n",
       "    <tr>\n",
       "      <th>25%</th>\n",
       "      <td>-0.804057</td>\n",
       "      <td>-1.071954</td>\n",
       "      <td>-0.230617</td>\n",
       "      <td>9.099773</td>\n",
       "      <td>4.000000</td>\n",
       "    </tr>\n",
       "    <tr>\n",
       "      <th>50%</th>\n",
       "      <td>-0.648170</td>\n",
       "      <td>-0.483250</td>\n",
       "      <td>0.425200</td>\n",
       "      <td>12.435607</td>\n",
       "      <td>4.000000</td>\n",
       "    </tr>\n",
       "    <tr>\n",
       "      <th>75%</th>\n",
       "      <td>0.279612</td>\n",
       "      <td>0.445501</td>\n",
       "      <td>0.430955</td>\n",
       "      <td>23.139344</td>\n",
       "      <td>6.000000</td>\n",
       "    </tr>\n",
       "    <tr>\n",
       "      <th>max</th>\n",
       "      <td>0.829829</td>\n",
       "      <td>0.653559</td>\n",
       "      <td>0.682516</td>\n",
       "      <td>49.305238</td>\n",
       "      <td>7.000000</td>\n",
       "    </tr>\n",
       "  </tbody>\n",
       "</table>\n",
       "</div>"
      ],
      "text/plain": [
       "           col1      col2      col3       col5      col7\n",
       "count  5.000000  5.000000  5.000000   5.000000  5.000000\n",
       "mean  -0.422511 -0.312837  0.110492  18.813996  4.800000\n",
       "std    1.009075  0.828650  0.590636  18.934505  1.643168\n",
       "min   -1.769768 -1.108040 -0.755591   0.090016  3.000000\n",
       "25%   -0.804057 -1.071954 -0.230617   9.099773  4.000000\n",
       "50%   -0.648170 -0.483250  0.425200  12.435607  4.000000\n",
       "75%    0.279612  0.445501  0.430955  23.139344  6.000000\n",
       "max    0.829829  0.653559  0.682516  49.305238  7.000000"
      ]
     },
     "execution_count": 41,
     "metadata": {},
     "output_type": "execute_result"
    }
   ],
   "source": [
    "df.describe()"
   ]
  },
  {
   "cell_type": "code",
   "execution_count": 42,
   "id": "db0a3a53",
   "metadata": {},
   "outputs": [
    {
     "data": {
      "text/plain": [
       "col1    -0.804057\n",
       "col2    -1.071954\n",
       "col3     0.430955\n",
       "col5    12.435607\n",
       "col6         sdfs\n",
       "col7            4\n",
       "Name: a, dtype: object"
      ]
     },
     "execution_count": 42,
     "metadata": {},
     "output_type": "execute_result"
    }
   ],
   "source": [
    "df.loc['a']"
   ]
  },
  {
   "cell_type": "code",
   "execution_count": 43,
   "id": "ced3baa0",
   "metadata": {},
   "outputs": [
    {
     "data": {
      "text/html": [
       "<div>\n",
       "<style scoped>\n",
       "    .dataframe tbody tr th:only-of-type {\n",
       "        vertical-align: middle;\n",
       "    }\n",
       "\n",
       "    .dataframe tbody tr th {\n",
       "        vertical-align: top;\n",
       "    }\n",
       "\n",
       "    .dataframe thead th {\n",
       "        text-align: right;\n",
       "    }\n",
       "</style>\n",
       "<table border=\"1\" class=\"dataframe\">\n",
       "  <thead>\n",
       "    <tr style=\"text-align: right;\">\n",
       "      <th></th>\n",
       "      <th>col1</th>\n",
       "      <th>col2</th>\n",
       "      <th>col3</th>\n",
       "      <th>col5</th>\n",
       "      <th>col6</th>\n",
       "      <th>col7</th>\n",
       "    </tr>\n",
       "  </thead>\n",
       "  <tbody>\n",
       "    <tr>\n",
       "      <th>a</th>\n",
       "      <td>-0.804057</td>\n",
       "      <td>-1.071954</td>\n",
       "      <td>0.430955</td>\n",
       "      <td>12.435607</td>\n",
       "      <td>sdfs</td>\n",
       "      <td>4</td>\n",
       "    </tr>\n",
       "    <tr>\n",
       "      <th>c</th>\n",
       "      <td>-0.648170</td>\n",
       "      <td>0.653559</td>\n",
       "      <td>0.682516</td>\n",
       "      <td>0.090016</td>\n",
       "      <td>weerwef</td>\n",
       "      <td>7</td>\n",
       "    </tr>\n",
       "  </tbody>\n",
       "</table>\n",
       "</div>"
      ],
      "text/plain": [
       "       col1      col2      col3       col5     col6  col7\n",
       "a -0.804057 -1.071954  0.430955  12.435607     sdfs     4\n",
       "c -0.648170  0.653559  0.682516   0.090016  weerwef     7"
      ]
     },
     "execution_count": 43,
     "metadata": {},
     "output_type": "execute_result"
    }
   ],
   "source": [
    "df.loc[['a','c']]"
   ]
  },
  {
   "cell_type": "code",
   "execution_count": 44,
   "id": "aa275cd4",
   "metadata": {},
   "outputs": [
    {
     "data": {
      "text/html": [
       "<div>\n",
       "<style scoped>\n",
       "    .dataframe tbody tr th:only-of-type {\n",
       "        vertical-align: middle;\n",
       "    }\n",
       "\n",
       "    .dataframe tbody tr th {\n",
       "        vertical-align: top;\n",
       "    }\n",
       "\n",
       "    .dataframe thead th {\n",
       "        text-align: right;\n",
       "    }\n",
       "</style>\n",
       "<table border=\"1\" class=\"dataframe\">\n",
       "  <thead>\n",
       "    <tr style=\"text-align: right;\">\n",
       "      <th></th>\n",
       "      <th>col1</th>\n",
       "      <th>col5</th>\n",
       "    </tr>\n",
       "  </thead>\n",
       "  <tbody>\n",
       "    <tr>\n",
       "      <th>a</th>\n",
       "      <td>-0.804057</td>\n",
       "      <td>12.435607</td>\n",
       "    </tr>\n",
       "    <tr>\n",
       "      <th>e</th>\n",
       "      <td>0.829829</td>\n",
       "      <td>9.099773</td>\n",
       "    </tr>\n",
       "  </tbody>\n",
       "</table>\n",
       "</div>"
      ],
      "text/plain": [
       "       col1       col5\n",
       "a -0.804057  12.435607\n",
       "e  0.829829   9.099773"
      ]
     },
     "execution_count": 44,
     "metadata": {},
     "output_type": "execute_result"
    }
   ],
   "source": [
    "df[['col1','col5']].loc[['a','e']]"
   ]
  },
  {
   "cell_type": "code",
   "execution_count": 45,
   "id": "2819a294",
   "metadata": {},
   "outputs": [
    {
     "data": {
      "text/plain": [
       "0.6535588293317819"
      ]
     },
     "execution_count": 45,
     "metadata": {},
     "output_type": "execute_result"
    }
   ],
   "source": [
    "df.loc['c','col2']"
   ]
  },
  {
   "cell_type": "code",
   "execution_count": 46,
   "id": "551e745e",
   "metadata": {},
   "outputs": [
    {
     "data": {
      "text/html": [
       "<div>\n",
       "<style scoped>\n",
       "    .dataframe tbody tr th:only-of-type {\n",
       "        vertical-align: middle;\n",
       "    }\n",
       "\n",
       "    .dataframe tbody tr th {\n",
       "        vertical-align: top;\n",
       "    }\n",
       "\n",
       "    .dataframe thead th {\n",
       "        text-align: right;\n",
       "    }\n",
       "</style>\n",
       "<table border=\"1\" class=\"dataframe\">\n",
       "  <thead>\n",
       "    <tr style=\"text-align: right;\">\n",
       "      <th></th>\n",
       "      <th>col1</th>\n",
       "      <th>col2</th>\n",
       "      <th>col3</th>\n",
       "      <th>col5</th>\n",
       "      <th>col6</th>\n",
       "      <th>col7</th>\n",
       "    </tr>\n",
       "  </thead>\n",
       "  <tbody>\n",
       "    <tr>\n",
       "      <th>a</th>\n",
       "      <td>-0.804057</td>\n",
       "      <td>-1.071954</td>\n",
       "      <td>0.430955</td>\n",
       "      <td>12.435607</td>\n",
       "      <td>sdfs</td>\n",
       "      <td>4</td>\n",
       "    </tr>\n",
       "    <tr>\n",
       "      <th>b</th>\n",
       "      <td>0.279612</td>\n",
       "      <td>0.445501</td>\n",
       "      <td>0.425200</td>\n",
       "      <td>23.139344</td>\n",
       "      <td>sdf</td>\n",
       "      <td>3</td>\n",
       "    </tr>\n",
       "    <tr>\n",
       "      <th>c</th>\n",
       "      <td>-0.648170</td>\n",
       "      <td>0.653559</td>\n",
       "      <td>0.682516</td>\n",
       "      <td>0.090016</td>\n",
       "      <td>weerwef</td>\n",
       "      <td>7</td>\n",
       "    </tr>\n",
       "    <tr>\n",
       "      <th>d</th>\n",
       "      <td>-1.769768</td>\n",
       "      <td>-1.108040</td>\n",
       "      <td>-0.755591</td>\n",
       "      <td>49.305238</td>\n",
       "      <td>wdfcqv</td>\n",
       "      <td>6</td>\n",
       "    </tr>\n",
       "    <tr>\n",
       "      <th>e</th>\n",
       "      <td>0.829829</td>\n",
       "      <td>-0.483250</td>\n",
       "      <td>-0.230617</td>\n",
       "      <td>9.099773</td>\n",
       "      <td>trgc</td>\n",
       "      <td>4</td>\n",
       "    </tr>\n",
       "  </tbody>\n",
       "</table>\n",
       "</div>"
      ],
      "text/plain": [
       "       col1      col2      col3       col5     col6  col7\n",
       "a -0.804057 -1.071954  0.430955  12.435607     sdfs     4\n",
       "b  0.279612  0.445501  0.425200  23.139344      sdf     3\n",
       "c -0.648170  0.653559  0.682516   0.090016  weerwef     7\n",
       "d -1.769768 -1.108040 -0.755591  49.305238   wdfcqv     6\n",
       "e  0.829829 -0.483250 -0.230617   9.099773     trgc     4"
      ]
     },
     "execution_count": 46,
     "metadata": {},
     "output_type": "execute_result"
    }
   ],
   "source": [
    "df"
   ]
  },
  {
   "cell_type": "code",
   "execution_count": 47,
   "id": "d61418c6",
   "metadata": {},
   "outputs": [
    {
     "data": {
      "text/html": [
       "<div>\n",
       "<style scoped>\n",
       "    .dataframe tbody tr th:only-of-type {\n",
       "        vertical-align: middle;\n",
       "    }\n",
       "\n",
       "    .dataframe tbody tr th {\n",
       "        vertical-align: top;\n",
       "    }\n",
       "\n",
       "    .dataframe thead th {\n",
       "        text-align: right;\n",
       "    }\n",
       "</style>\n",
       "<table border=\"1\" class=\"dataframe\">\n",
       "  <thead>\n",
       "    <tr style=\"text-align: right;\">\n",
       "      <th></th>\n",
       "      <th>col1</th>\n",
       "      <th>col2</th>\n",
       "      <th>col3</th>\n",
       "      <th>col5</th>\n",
       "      <th>col6</th>\n",
       "      <th>col7</th>\n",
       "    </tr>\n",
       "  </thead>\n",
       "  <tbody>\n",
       "    <tr>\n",
       "      <th>a</th>\n",
       "      <td>NaN</td>\n",
       "      <td>NaN</td>\n",
       "      <td>NaN</td>\n",
       "      <td>NaN</td>\n",
       "      <td>NaN</td>\n",
       "      <td>NaN</td>\n",
       "    </tr>\n",
       "    <tr>\n",
       "      <th>b</th>\n",
       "      <td>NaN</td>\n",
       "      <td>NaN</td>\n",
       "      <td>NaN</td>\n",
       "      <td>NaN</td>\n",
       "      <td>NaN</td>\n",
       "      <td>NaN</td>\n",
       "    </tr>\n",
       "    <tr>\n",
       "      <th>c</th>\n",
       "      <td>NaN</td>\n",
       "      <td>NaN</td>\n",
       "      <td>NaN</td>\n",
       "      <td>NaN</td>\n",
       "      <td>NaN</td>\n",
       "      <td>NaN</td>\n",
       "    </tr>\n",
       "    <tr>\n",
       "      <th>d</th>\n",
       "      <td>NaN</td>\n",
       "      <td>NaN</td>\n",
       "      <td>NaN</td>\n",
       "      <td>NaN</td>\n",
       "      <td>NaN</td>\n",
       "      <td>NaN</td>\n",
       "    </tr>\n",
       "    <tr>\n",
       "      <th>e</th>\n",
       "      <td>NaN</td>\n",
       "      <td>NaN</td>\n",
       "      <td>NaN</td>\n",
       "      <td>NaN</td>\n",
       "      <td>NaN</td>\n",
       "      <td>NaN</td>\n",
       "    </tr>\n",
       "  </tbody>\n",
       "</table>\n",
       "</div>"
      ],
      "text/plain": [
       "   col1  col2  col3  col5 col6  col7\n",
       "a   NaN   NaN   NaN   NaN  NaN   NaN\n",
       "b   NaN   NaN   NaN   NaN  NaN   NaN\n",
       "c   NaN   NaN   NaN   NaN  NaN   NaN\n",
       "d   NaN   NaN   NaN   NaN  NaN   NaN\n",
       "e   NaN   NaN   NaN   NaN  NaN   NaN"
      ]
     },
     "execution_count": 47,
     "metadata": {},
     "output_type": "execute_result"
    }
   ],
   "source": [
    "df[df==0.30371766692485547]"
   ]
  },
  {
   "cell_type": "code",
   "execution_count": 48,
   "id": "cf6e990c",
   "metadata": {},
   "outputs": [
    {
     "data": {
      "text/plain": [
       "col6\n",
       "sdfs       1\n",
       "sdf        1\n",
       "weerwef    1\n",
       "wdfcqv     1\n",
       "trgc       1\n",
       "Name: count, dtype: int64"
      ]
     },
     "execution_count": 48,
     "metadata": {},
     "output_type": "execute_result"
    }
   ],
   "source": [
    "df['col6'].value_counts()"
   ]
  },
  {
   "cell_type": "code",
   "execution_count": 49,
   "id": "faa2a583",
   "metadata": {},
   "outputs": [
    {
     "data": {
      "text/plain": [
       "array([-1.07195406,  0.44550109,  0.65355883, -1.10804029, -0.48325001])"
      ]
     },
     "execution_count": 49,
     "metadata": {},
     "output_type": "execute_result"
    }
   ],
   "source": [
    "df['col2'].unique()"
   ]
  },
  {
   "cell_type": "code",
   "execution_count": 50,
   "id": "4e17c60a",
   "metadata": {},
   "outputs": [
    {
     "data": {
      "text/plain": [
       "5"
      ]
     },
     "execution_count": 50,
     "metadata": {},
     "output_type": "execute_result"
    }
   ],
   "source": [
    "df['col2'].nunique()"
   ]
  },
  {
   "cell_type": "code",
   "execution_count": 51,
   "id": "5e08a7c9",
   "metadata": {},
   "outputs": [
    {
     "data": {
      "text/plain": [
       "col1    -0.804057\n",
       "col2    -1.071954\n",
       "col3     0.430955\n",
       "col5    12.435607\n",
       "col6         sdfs\n",
       "col7            4\n",
       "Name: a, dtype: object"
      ]
     },
     "execution_count": 51,
     "metadata": {},
     "output_type": "execute_result"
    }
   ],
   "source": [
    "df.loc['a']"
   ]
  },
  {
   "cell_type": "code",
   "execution_count": 52,
   "id": "400721fd",
   "metadata": {},
   "outputs": [
    {
     "data": {
      "text/html": [
       "<div>\n",
       "<style scoped>\n",
       "    .dataframe tbody tr th:only-of-type {\n",
       "        vertical-align: middle;\n",
       "    }\n",
       "\n",
       "    .dataframe tbody tr th {\n",
       "        vertical-align: top;\n",
       "    }\n",
       "\n",
       "    .dataframe thead th {\n",
       "        text-align: right;\n",
       "    }\n",
       "</style>\n",
       "<table border=\"1\" class=\"dataframe\">\n",
       "  <thead>\n",
       "    <tr style=\"text-align: right;\">\n",
       "      <th></th>\n",
       "      <th>col1</th>\n",
       "      <th>col2</th>\n",
       "      <th>col3</th>\n",
       "      <th>col5</th>\n",
       "      <th>col6</th>\n",
       "      <th>col7</th>\n",
       "    </tr>\n",
       "  </thead>\n",
       "  <tbody>\n",
       "    <tr>\n",
       "      <th>a</th>\n",
       "      <td>-0.804057</td>\n",
       "      <td>-1.071954</td>\n",
       "      <td>0.430955</td>\n",
       "      <td>12.435607</td>\n",
       "      <td>sdfs</td>\n",
       "      <td>4</td>\n",
       "    </tr>\n",
       "    <tr>\n",
       "      <th>c</th>\n",
       "      <td>-0.648170</td>\n",
       "      <td>0.653559</td>\n",
       "      <td>0.682516</td>\n",
       "      <td>0.090016</td>\n",
       "      <td>weerwef</td>\n",
       "      <td>7</td>\n",
       "    </tr>\n",
       "  </tbody>\n",
       "</table>\n",
       "</div>"
      ],
      "text/plain": [
       "       col1      col2      col3       col5     col6  col7\n",
       "a -0.804057 -1.071954  0.430955  12.435607     sdfs     4\n",
       "c -0.648170  0.653559  0.682516   0.090016  weerwef     7"
      ]
     },
     "execution_count": 52,
     "metadata": {},
     "output_type": "execute_result"
    }
   ],
   "source": [
    "df.loc[['a','c']]"
   ]
  },
  {
   "cell_type": "code",
   "execution_count": 53,
   "id": "0a557527",
   "metadata": {},
   "outputs": [
    {
     "data": {
      "text/plain": [
       "col1     0.279612\n",
       "col2     0.445501\n",
       "col3       0.4252\n",
       "col5    23.139344\n",
       "col6          sdf\n",
       "col7            3\n",
       "Name: b, dtype: object"
      ]
     },
     "execution_count": 53,
     "metadata": {},
     "output_type": "execute_result"
    }
   ],
   "source": [
    "df.iloc[1]"
   ]
  },
  {
   "cell_type": "code",
   "execution_count": 54,
   "id": "e4a712c1",
   "metadata": {},
   "outputs": [
    {
     "data": {
      "text/html": [
       "<div>\n",
       "<style scoped>\n",
       "    .dataframe tbody tr th:only-of-type {\n",
       "        vertical-align: middle;\n",
       "    }\n",
       "\n",
       "    .dataframe tbody tr th {\n",
       "        vertical-align: top;\n",
       "    }\n",
       "\n",
       "    .dataframe thead th {\n",
       "        text-align: right;\n",
       "    }\n",
       "</style>\n",
       "<table border=\"1\" class=\"dataframe\">\n",
       "  <thead>\n",
       "    <tr style=\"text-align: right;\">\n",
       "      <th></th>\n",
       "      <th>col1</th>\n",
       "      <th>col2</th>\n",
       "      <th>col3</th>\n",
       "      <th>col5</th>\n",
       "      <th>col6</th>\n",
       "      <th>col7</th>\n",
       "    </tr>\n",
       "  </thead>\n",
       "  <tbody>\n",
       "    <tr>\n",
       "      <th>a</th>\n",
       "      <td>-0.804057</td>\n",
       "      <td>-1.071954</td>\n",
       "      <td>0.430955</td>\n",
       "      <td>12.435607</td>\n",
       "      <td>sdfs</td>\n",
       "      <td>4</td>\n",
       "    </tr>\n",
       "    <tr>\n",
       "      <th>c</th>\n",
       "      <td>-0.648170</td>\n",
       "      <td>0.653559</td>\n",
       "      <td>0.682516</td>\n",
       "      <td>0.090016</td>\n",
       "      <td>weerwef</td>\n",
       "      <td>7</td>\n",
       "    </tr>\n",
       "  </tbody>\n",
       "</table>\n",
       "</div>"
      ],
      "text/plain": [
       "       col1      col2      col3       col5     col6  col7\n",
       "a -0.804057 -1.071954  0.430955  12.435607     sdfs     4\n",
       "c -0.648170  0.653559  0.682516   0.090016  weerwef     7"
      ]
     },
     "execution_count": 54,
     "metadata": {},
     "output_type": "execute_result"
    }
   ],
   "source": [
    "df.iloc[[0,2]]"
   ]
  },
  {
   "cell_type": "code",
   "execution_count": 55,
   "id": "49262141",
   "metadata": {},
   "outputs": [
    {
     "data": {
      "text/html": [
       "<div>\n",
       "<style scoped>\n",
       "    .dataframe tbody tr th:only-of-type {\n",
       "        vertical-align: middle;\n",
       "    }\n",
       "\n",
       "    .dataframe tbody tr th {\n",
       "        vertical-align: top;\n",
       "    }\n",
       "\n",
       "    .dataframe thead th {\n",
       "        text-align: right;\n",
       "    }\n",
       "</style>\n",
       "<table border=\"1\" class=\"dataframe\">\n",
       "  <thead>\n",
       "    <tr style=\"text-align: right;\">\n",
       "      <th></th>\n",
       "      <th>col2</th>\n",
       "      <th>col7</th>\n",
       "    </tr>\n",
       "  </thead>\n",
       "  <tbody>\n",
       "    <tr>\n",
       "      <th>b</th>\n",
       "      <td>0.445501</td>\n",
       "      <td>3</td>\n",
       "    </tr>\n",
       "    <tr>\n",
       "      <th>c</th>\n",
       "      <td>0.653559</td>\n",
       "      <td>7</td>\n",
       "    </tr>\n",
       "    <tr>\n",
       "      <th>d</th>\n",
       "      <td>-1.108040</td>\n",
       "      <td>6</td>\n",
       "    </tr>\n",
       "  </tbody>\n",
       "</table>\n",
       "</div>"
      ],
      "text/plain": [
       "       col2  col7\n",
       "b  0.445501     3\n",
       "c  0.653559     7\n",
       "d -1.108040     6"
      ]
     },
     "execution_count": 55,
     "metadata": {},
     "output_type": "execute_result"
    }
   ],
   "source": [
    "df.iloc[1:4][['col2','col7']]"
   ]
  },
  {
   "cell_type": "code",
   "execution_count": 56,
   "id": "6ea6206e",
   "metadata": {},
   "outputs": [],
   "source": [
    "df.loc['w']=df.loc['e']*3"
   ]
  },
  {
   "cell_type": "code",
   "execution_count": 57,
   "id": "e47caf71",
   "metadata": {},
   "outputs": [
    {
     "data": {
      "text/html": [
       "<div>\n",
       "<style scoped>\n",
       "    .dataframe tbody tr th:only-of-type {\n",
       "        vertical-align: middle;\n",
       "    }\n",
       "\n",
       "    .dataframe tbody tr th {\n",
       "        vertical-align: top;\n",
       "    }\n",
       "\n",
       "    .dataframe thead th {\n",
       "        text-align: right;\n",
       "    }\n",
       "</style>\n",
       "<table border=\"1\" class=\"dataframe\">\n",
       "  <thead>\n",
       "    <tr style=\"text-align: right;\">\n",
       "      <th></th>\n",
       "      <th>col1</th>\n",
       "      <th>col2</th>\n",
       "      <th>col3</th>\n",
       "      <th>col5</th>\n",
       "      <th>col6</th>\n",
       "      <th>col7</th>\n",
       "    </tr>\n",
       "  </thead>\n",
       "  <tbody>\n",
       "    <tr>\n",
       "      <th>a</th>\n",
       "      <td>-0.804057</td>\n",
       "      <td>-1.071954</td>\n",
       "      <td>0.430955</td>\n",
       "      <td>12.435607</td>\n",
       "      <td>sdfs</td>\n",
       "      <td>4</td>\n",
       "    </tr>\n",
       "    <tr>\n",
       "      <th>b</th>\n",
       "      <td>0.279612</td>\n",
       "      <td>0.445501</td>\n",
       "      <td>0.425200</td>\n",
       "      <td>23.139344</td>\n",
       "      <td>sdf</td>\n",
       "      <td>3</td>\n",
       "    </tr>\n",
       "    <tr>\n",
       "      <th>c</th>\n",
       "      <td>-0.648170</td>\n",
       "      <td>0.653559</td>\n",
       "      <td>0.682516</td>\n",
       "      <td>0.090016</td>\n",
       "      <td>weerwef</td>\n",
       "      <td>7</td>\n",
       "    </tr>\n",
       "    <tr>\n",
       "      <th>d</th>\n",
       "      <td>-1.769768</td>\n",
       "      <td>-1.108040</td>\n",
       "      <td>-0.755591</td>\n",
       "      <td>49.305238</td>\n",
       "      <td>wdfcqv</td>\n",
       "      <td>6</td>\n",
       "    </tr>\n",
       "    <tr>\n",
       "      <th>e</th>\n",
       "      <td>0.829829</td>\n",
       "      <td>-0.483250</td>\n",
       "      <td>-0.230617</td>\n",
       "      <td>9.099773</td>\n",
       "      <td>trgc</td>\n",
       "      <td>4</td>\n",
       "    </tr>\n",
       "    <tr>\n",
       "      <th>w</th>\n",
       "      <td>2.489486</td>\n",
       "      <td>-1.449750</td>\n",
       "      <td>-0.691852</td>\n",
       "      <td>27.299319</td>\n",
       "      <td>trgctrgctrgc</td>\n",
       "      <td>12</td>\n",
       "    </tr>\n",
       "  </tbody>\n",
       "</table>\n",
       "</div>"
      ],
      "text/plain": [
       "       col1      col2      col3       col5          col6  col7\n",
       "a -0.804057 -1.071954  0.430955  12.435607          sdfs     4\n",
       "b  0.279612  0.445501  0.425200  23.139344           sdf     3\n",
       "c -0.648170  0.653559  0.682516   0.090016       weerwef     7\n",
       "d -1.769768 -1.108040 -0.755591  49.305238        wdfcqv     6\n",
       "e  0.829829 -0.483250 -0.230617   9.099773          trgc     4\n",
       "w  2.489486 -1.449750 -0.691852  27.299319  trgctrgctrgc    12"
      ]
     },
     "execution_count": 57,
     "metadata": {},
     "output_type": "execute_result"
    }
   ],
   "source": [
    "df"
   ]
  },
  {
   "cell_type": "code",
   "execution_count": 58,
   "id": "b351e598",
   "metadata": {},
   "outputs": [],
   "source": [
    "df.drop('c',axis=0,inplace=True)"
   ]
  },
  {
   "cell_type": "code",
   "execution_count": 59,
   "id": "c1792f7b",
   "metadata": {},
   "outputs": [
    {
     "data": {
      "text/html": [
       "<div>\n",
       "<style scoped>\n",
       "    .dataframe tbody tr th:only-of-type {\n",
       "        vertical-align: middle;\n",
       "    }\n",
       "\n",
       "    .dataframe tbody tr th {\n",
       "        vertical-align: top;\n",
       "    }\n",
       "\n",
       "    .dataframe thead th {\n",
       "        text-align: right;\n",
       "    }\n",
       "</style>\n",
       "<table border=\"1\" class=\"dataframe\">\n",
       "  <thead>\n",
       "    <tr style=\"text-align: right;\">\n",
       "      <th></th>\n",
       "      <th>col1</th>\n",
       "      <th>col2</th>\n",
       "      <th>col3</th>\n",
       "      <th>col5</th>\n",
       "      <th>col6</th>\n",
       "      <th>col7</th>\n",
       "    </tr>\n",
       "  </thead>\n",
       "  <tbody>\n",
       "    <tr>\n",
       "      <th>a</th>\n",
       "      <td>-0.804057</td>\n",
       "      <td>-1.071954</td>\n",
       "      <td>0.430955</td>\n",
       "      <td>12.435607</td>\n",
       "      <td>sdfs</td>\n",
       "      <td>4</td>\n",
       "    </tr>\n",
       "    <tr>\n",
       "      <th>b</th>\n",
       "      <td>0.279612</td>\n",
       "      <td>0.445501</td>\n",
       "      <td>0.425200</td>\n",
       "      <td>23.139344</td>\n",
       "      <td>sdf</td>\n",
       "      <td>3</td>\n",
       "    </tr>\n",
       "    <tr>\n",
       "      <th>d</th>\n",
       "      <td>-1.769768</td>\n",
       "      <td>-1.108040</td>\n",
       "      <td>-0.755591</td>\n",
       "      <td>49.305238</td>\n",
       "      <td>wdfcqv</td>\n",
       "      <td>6</td>\n",
       "    </tr>\n",
       "    <tr>\n",
       "      <th>e</th>\n",
       "      <td>0.829829</td>\n",
       "      <td>-0.483250</td>\n",
       "      <td>-0.230617</td>\n",
       "      <td>9.099773</td>\n",
       "      <td>trgc</td>\n",
       "      <td>4</td>\n",
       "    </tr>\n",
       "    <tr>\n",
       "      <th>w</th>\n",
       "      <td>2.489486</td>\n",
       "      <td>-1.449750</td>\n",
       "      <td>-0.691852</td>\n",
       "      <td>27.299319</td>\n",
       "      <td>trgctrgctrgc</td>\n",
       "      <td>12</td>\n",
       "    </tr>\n",
       "  </tbody>\n",
       "</table>\n",
       "</div>"
      ],
      "text/plain": [
       "       col1      col2      col3       col5          col6  col7\n",
       "a -0.804057 -1.071954  0.430955  12.435607          sdfs     4\n",
       "b  0.279612  0.445501  0.425200  23.139344           sdf     3\n",
       "d -1.769768 -1.108040 -0.755591  49.305238        wdfcqv     6\n",
       "e  0.829829 -0.483250 -0.230617   9.099773          trgc     4\n",
       "w  2.489486 -1.449750 -0.691852  27.299319  trgctrgctrgc    12"
      ]
     },
     "execution_count": 59,
     "metadata": {},
     "output_type": "execute_result"
    }
   ],
   "source": [
    "df"
   ]
  },
  {
   "cell_type": "code",
   "execution_count": 60,
   "id": "e2c09f88",
   "metadata": {},
   "outputs": [
    {
     "data": {
      "text/html": [
       "<div>\n",
       "<style scoped>\n",
       "    .dataframe tbody tr th:only-of-type {\n",
       "        vertical-align: middle;\n",
       "    }\n",
       "\n",
       "    .dataframe tbody tr th {\n",
       "        vertical-align: top;\n",
       "    }\n",
       "\n",
       "    .dataframe thead th {\n",
       "        text-align: right;\n",
       "    }\n",
       "</style>\n",
       "<table border=\"1\" class=\"dataframe\">\n",
       "  <thead>\n",
       "    <tr style=\"text-align: right;\">\n",
       "      <th></th>\n",
       "      <th>col1</th>\n",
       "      <th>col2</th>\n",
       "      <th>col3</th>\n",
       "      <th>col5</th>\n",
       "      <th>col6</th>\n",
       "      <th>col7</th>\n",
       "    </tr>\n",
       "  </thead>\n",
       "  <tbody>\n",
       "    <tr>\n",
       "      <th>b</th>\n",
       "      <td>0.279612</td>\n",
       "      <td>0.445501</td>\n",
       "      <td>0.4252</td>\n",
       "      <td>23.139344</td>\n",
       "      <td>sdf</td>\n",
       "      <td>3</td>\n",
       "    </tr>\n",
       "  </tbody>\n",
       "</table>\n",
       "</div>"
      ],
      "text/plain": [
       "       col1      col2    col3       col5 col6  col7\n",
       "b  0.279612  0.445501  0.4252  23.139344  sdf     3"
      ]
     },
     "execution_count": 60,
     "metadata": {},
     "output_type": "execute_result"
    }
   ],
   "source": [
    "df.loc[df['col2']>0]"
   ]
  },
  {
   "cell_type": "code",
   "execution_count": 62,
   "id": "3069430c",
   "metadata": {},
   "outputs": [
    {
     "data": {
      "text/html": [
       "<div>\n",
       "<style scoped>\n",
       "    .dataframe tbody tr th:only-of-type {\n",
       "        vertical-align: middle;\n",
       "    }\n",
       "\n",
       "    .dataframe tbody tr th {\n",
       "        vertical-align: top;\n",
       "    }\n",
       "\n",
       "    .dataframe thead th {\n",
       "        text-align: right;\n",
       "    }\n",
       "</style>\n",
       "<table border=\"1\" class=\"dataframe\">\n",
       "  <thead>\n",
       "    <tr style=\"text-align: right;\">\n",
       "      <th></th>\n",
       "      <th>col1</th>\n",
       "      <th>col2</th>\n",
       "      <th>col3</th>\n",
       "      <th>col5</th>\n",
       "      <th>col6</th>\n",
       "      <th>col7</th>\n",
       "    </tr>\n",
       "  </thead>\n",
       "  <tbody>\n",
       "    <tr>\n",
       "      <th>a</th>\n",
       "      <td>-0.804057</td>\n",
       "      <td>-1.071954</td>\n",
       "      <td>0.430955</td>\n",
       "      <td>12.435607</td>\n",
       "      <td>sdfs</td>\n",
       "      <td>4</td>\n",
       "    </tr>\n",
       "    <tr>\n",
       "      <th>b</th>\n",
       "      <td>0.279612</td>\n",
       "      <td>0.445501</td>\n",
       "      <td>0.425200</td>\n",
       "      <td>23.139344</td>\n",
       "      <td>sdf</td>\n",
       "      <td>3</td>\n",
       "    </tr>\n",
       "    <tr>\n",
       "      <th>d</th>\n",
       "      <td>-1.769768</td>\n",
       "      <td>-1.108040</td>\n",
       "      <td>-0.755591</td>\n",
       "      <td>49.305238</td>\n",
       "      <td>wdfcqv</td>\n",
       "      <td>6</td>\n",
       "    </tr>\n",
       "    <tr>\n",
       "      <th>e</th>\n",
       "      <td>0.829829</td>\n",
       "      <td>-0.483250</td>\n",
       "      <td>-0.230617</td>\n",
       "      <td>9.099773</td>\n",
       "      <td>trgc</td>\n",
       "      <td>4</td>\n",
       "    </tr>\n",
       "    <tr>\n",
       "      <th>w</th>\n",
       "      <td>2.489486</td>\n",
       "      <td>-1.449750</td>\n",
       "      <td>-0.691852</td>\n",
       "      <td>27.299319</td>\n",
       "      <td>trgctrgctrgc</td>\n",
       "      <td>12</td>\n",
       "    </tr>\n",
       "  </tbody>\n",
       "</table>\n",
       "</div>"
      ],
      "text/plain": [
       "       col1      col2      col3       col5          col6  col7\n",
       "a -0.804057 -1.071954  0.430955  12.435607          sdfs     4\n",
       "b  0.279612  0.445501  0.425200  23.139344           sdf     3\n",
       "d -1.769768 -1.108040 -0.755591  49.305238        wdfcqv     6\n",
       "e  0.829829 -0.483250 -0.230617   9.099773          trgc     4\n",
       "w  2.489486 -1.449750 -0.691852  27.299319  trgctrgctrgc    12"
      ]
     },
     "execution_count": 62,
     "metadata": {},
     "output_type": "execute_result"
    }
   ],
   "source": [
    "df"
   ]
  },
  {
   "cell_type": "code",
   "execution_count": 63,
   "id": "f0e29cb8",
   "metadata": {},
   "outputs": [
    {
     "data": {
      "text/html": [
       "<div>\n",
       "<style scoped>\n",
       "    .dataframe tbody tr th:only-of-type {\n",
       "        vertical-align: middle;\n",
       "    }\n",
       "\n",
       "    .dataframe tbody tr th {\n",
       "        vertical-align: top;\n",
       "    }\n",
       "\n",
       "    .dataframe thead th {\n",
       "        text-align: right;\n",
       "    }\n",
       "</style>\n",
       "<table border=\"1\" class=\"dataframe\">\n",
       "  <thead>\n",
       "    <tr style=\"text-align: right;\">\n",
       "      <th></th>\n",
       "      <th>col2</th>\n",
       "      <th>col3</th>\n",
       "    </tr>\n",
       "  </thead>\n",
       "  <tbody>\n",
       "    <tr>\n",
       "      <th>b</th>\n",
       "      <td>0.445501</td>\n",
       "      <td>0.425200</td>\n",
       "    </tr>\n",
       "    <tr>\n",
       "      <th>d</th>\n",
       "      <td>-1.108040</td>\n",
       "      <td>-0.755591</td>\n",
       "    </tr>\n",
       "    <tr>\n",
       "      <th>e</th>\n",
       "      <td>-0.483250</td>\n",
       "      <td>-0.230617</td>\n",
       "    </tr>\n",
       "  </tbody>\n",
       "</table>\n",
       "</div>"
      ],
      "text/plain": [
       "       col2      col3\n",
       "b  0.445501  0.425200\n",
       "d -1.108040 -0.755591\n",
       "e -0.483250 -0.230617"
      ]
     },
     "execution_count": 63,
     "metadata": {},
     "output_type": "execute_result"
    }
   ],
   "source": [
    "df.iloc[1:4,1:3]"
   ]
  },
  {
   "cell_type": "code",
   "execution_count": 64,
   "id": "c6ad8cd4",
   "metadata": {},
   "outputs": [],
   "source": [
    "df.to_csv('classroom.csv')"
   ]
  },
  {
   "cell_type": "code",
   "execution_count": null,
   "id": "2dedcc80",
   "metadata": {},
   "outputs": [],
   "source": []
  }
 ],
 "metadata": {
  "kernelspec": {
   "display_name": "Python 3 (ipykernel)",
   "language": "python",
   "name": "python3"
  },
  "language_info": {
   "codemirror_mode": {
    "name": "ipython",
    "version": 3
   },
   "file_extension": ".py",
   "mimetype": "text/x-python",
   "name": "python",
   "nbconvert_exporter": "python",
   "pygments_lexer": "ipython3",
   "version": "3.11.3"
  }
 },
 "nbformat": 4,
 "nbformat_minor": 5
}
